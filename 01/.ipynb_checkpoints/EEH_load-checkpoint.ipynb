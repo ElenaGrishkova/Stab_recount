{
 "cells": [
  {
   "cell_type": "code",
   "execution_count": 1,
   "metadata": {
    "collapsed": false
   },
   "outputs": [
    {
     "name": "stderr",
     "output_type": "stream",
     "text": [
      "/Users/antonzaharenkov/Documents/anaconda/lib/python2.7/site-packages/pandas/computation/__init__.py:19: UserWarning: The installed version of numexpr 2.4.4 is not supported in pandas and will be not be used\n",
      "\n",
      "  UserWarning)\n",
      "/Users/antonzaharenkov/Documents/anaconda/lib/python2.7/site-packages/ipykernel/__main__.py:59: UserWarning: Boolean Series key will be reindexed to match DataFrame index.\n",
      "/Users/antonzaharenkov/Documents/anaconda/lib/python2.7/site-packages/ipykernel/__main__.py:60: UserWarning: Boolean Series key will be reindexed to match DataFrame index.\n"
     ]
    }
   ],
   "source": [
    "import pandas as pd\n",
    "import numpy as np\n",
    "import pyeeg\n",
    "from numpy.random import randn\n",
    "from pandas import ExcelWriter\n",
    "from openpyxl import Workbook\n",
    "\n",
    "def rle(inarray):\n",
    "        \"\"\" run length encoding. Partial credit to R rle function. \n",
    "            Multi datatype arrays catered for including non Numpy\n",
    "            returns: tuple (runlengths, startpositions, values) \"\"\"\n",
    "        ia = np.array(inarray)                  # force numpy\n",
    "        n = len(ia)\n",
    "        if n == 0: \n",
    "            return (None, None, None)\n",
    "        else:\n",
    "            y = np.array(ia[1:] != ia[:-1])     # pairwise unequal (string safe)\n",
    "            i = np.append(np.where(y), n - 1)   # must include last element posi\n",
    "            z = np.diff(np.append(-1, i))       # run lengths\n",
    "            p = np.cumsum(np.append(0, z))[:-1] # positions\n",
    "            return(z, p, ia[i])\n",
    "\n",
    "names = [u'Иванов Владислав',\n",
    "u'Леонтьева Ксения',\n",
    "u'Кравец Мария',\n",
    "u'Тукина Юлия',\n",
    "u'Дубенко Антон',\n",
    "u'Акулов Дмитрий',\n",
    "u'Гаврильчик Богдан',\n",
    "u'Котова Маргарита',\n",
    "u'Гуров Алексей',\n",
    "u'Федотов Никита']\n",
    "\n",
    "\n",
    "#folder = '2016-03-11_Collective_action'\n",
    "state = 'Before_Soc'\n",
    "\n",
    "wb = Workbook()\n",
    "wb.save(filename = '{}_EEH.xlsx'.format(state))\n",
    "for line in [1]:\n",
    "    for n in range(10):\n",
    "        if (2*n<9): x = pd.read_csv('{}/1/000{}_X'.format(state,2*n), skiprows=10, sep=')', names = ['time','X'],index_col = False)\n",
    "        if (2*n<9): y = pd.read_csv('{}/1/000{}_Y'.format(state,2*n), skiprows=10, sep=')', names = ['time','Y'],index_col = False)\n",
    "        if (2*n<9): z = pd.read_csv('{}/1/000{}_PZ'.format(state,2*n+1), skiprows=10, sep=')',names = ['time','Z'],index_col = False)\n",
    "        \n",
    "        if (2*n>9): x = pd.read_csv('{}/2/000{}_X'.format(state,2*(n-5)), skiprows=10, sep=')', names = ['time','X'],index_col = False)\n",
    "        if (2*n>9): y = pd.read_csv('{}/2/000{}_Y'.format(state,2*(n-5)), skiprows=10, sep=')', names = ['time','Y'],index_col = False)\n",
    "        if (2*n>9): z = pd.read_csv('{}/2/000{}_PZ'.format(state,2*(n-5)+1), skiprows=10, sep=')',names = ['time','Z'],index_col = False)\n",
    "\n",
    "        info = pd.read_excel('160325_SO1-2.xlsx',sheetname=u'160325_Г1', index_col=0)\n",
    "        info2 = pd.read_excel('160325_SO1-2.xlsx',sheetname=u'Г2', index_col=0)            \n",
    "        data = x.merge(y).merge(z)\n",
    "        #data['marker'] = '0'\n",
    "        \n",
    "        zt = pd.read_csv('160325_1347.csv',skiprows=32, sep = ';')\n",
    "        a = list(zt.columns)\n",
    "        a[0] = 'lol'\n",
    "        zt.columns = a\n",
    "        start = float(np.array(zt[zt.subjects == 'subjects'][zt.lol == 3][zt.Period == '1'].iloc[[1],[9]])[0][0])\n",
    "        start2 = float(np.array(zt[zt.subjects == 'subjects'][zt.lol == 4][zt.Period == '1'].iloc[[1],[9]])[0][0])\n",
    "        \n",
    "        \n",
    "        marker = pd.read_excel('After_Soc/1/Markers_1-2.xls')\n",
    "        marker = marker[np.isfinite(marker['sec'])]\n",
    "        start_extract = float(np.array(marker.iloc[[2],[3]])[0][0])\n",
    "        start_contrib = float(np.array(marker.iloc[[5],[3]])[0][0])\n",
    "        \n",
    "        data = data.iloc[[j for j in range (0,np.array(marker['tic-tot'].astype(int))[6])]]\n",
    "        \n",
    "        df = data[['X','Y','Z']].rolling( window=3, min_periods=1,center=True).mean().diff()\n",
    "        df = df[np.isfinite(df['X'])]\n",
    "        df = df**2\n",
    "        df = np.array(df.sum(axis = 1))\n",
    "        ndf = [df[i:i+1500] for i in range(0, len(df), 1500)]\n",
    "\n",
    "        mean = [j.mean() for j in ndf]\n",
    "        std = [j.std() for j in ndf]\n",
    "        energy = (np.array(mean)**2+np.array(std))**(1./2)\n",
    "        hurstl = [pyeeg.hurst(j) for j in ndf]\n",
    "        \n",
    "        de = data[['X','Y','Z']].rolling( window=3, min_periods=1,center=True).mean().diff()\n",
    "        de = de[np.isfinite(de['X'])]\n",
    "        nde = [np.array(de)[i:i+1500] for i in range(0, len(df), 1500)]\n",
    "\n",
    "        amax = [np.amax(j,axis = 0) for j in nde]\n",
    "        amin = [np.amin(j,axis = 0) for j in nde]\n",
    "        delta = (np.array(amax) - np.array(amin))/40\n",
    "        nde = [(nde[j] - amin[j])//delta[j]+1 for j in range(len(amin))]\n",
    "        t = [j[:,0]*1000000+j[:,1]*1000+j[:,2] for j in nde]\n",
    "        entropy = [-sum((rle(np.sort(i))[0]/1500.)*np.log2(rle(np.sort(i))[0]/1500.)) for i in t]\n",
    "        \n",
    "        \n",
    "        \n",
    "        from openpyxl import load_workbook\n",
    "\n",
    "        book = load_workbook('{}_EEH.xlsx'.format(state))\n",
    "        writer = pd.ExcelWriter('{}_EEH.xlsx'.format(state), engine='openpyxl') \n",
    "        writer.book = book\n",
    "        writer.sheets = dict((ws.title, ws) for ws in book.worksheets)\n",
    "\n",
    "        \n",
    "        data1 = pd.DataFrame(energy, columns=[names[n]]).T.to_excel(writer, sheet_name = u'Energy', startrow = n, startcol = 1,header = False)\n",
    "        data2 = pd.DataFrame(entropy, columns=[names[n]]).T.to_excel(writer, sheet_name = u'Entropy', startrow = n, startcol = 1,header = False)\n",
    "        data3 = pd.DataFrame(hurstl, columns=[names[n]]).T.to_excel(writer, sheet_name = u'Hurst', startrow = n, startcol = 1,header = False)\n",
    "                \n",
    "        writer.save()"
   ]
  },
  {
   "cell_type": "code",
   "execution_count": null,
   "metadata": {
    "collapsed": false
   },
   "outputs": [],
   "source": [
    "energy.shape"
   ]
  },
  {
   "cell_type": "code",
   "execution_count": null,
   "metadata": {
    "collapsed": false
   },
   "outputs": [],
   "source": [
    "n = 0\n",
    "        if (2*n<9): x = pd.read_csv('{}/1/000{}_X'.format(state,2*n), skiprows=10, sep=')', names = ['time','X'],index_col = False)\n",
    "        if (2*n<9): y = pd.read_csv('{}/1/000{}_Y'.format(state,2*n), skiprows=10, sep=')', names = ['time','Y'],index_col = False)\n",
    "        if (2*n<9): z = pd.read_csv('{}/1/000{}_PZ'.format(state,2*n+1), skiprows=10, sep=')',names = ['time','Z'],index_col = False)\n",
    "        \n",
    "        if (2*n>9): x = pd.read_csv('{}/2/000{}_X'.format(state,2*(n-5)), skiprows=10, sep=')', names = ['time','X'],index_col = False)\n",
    "        if (2*n>9): y = pd.read_csv('{}/2/000{}_Y'.format(state,2*(n-5)), skiprows=10, sep=')', names = ['time','Y'],index_col = False)\n",
    "        if (2*n>9): z = pd.read_csv('{}/2/000{}_PZ'.format(state,2*(n-5)+1), skiprows=10, sep=')',names = ['time','Z'],index_col = False)\n",
    "\n",
    "        info = pd.read_excel('160325_SO1-2.xlsx',sheetname=u'160325_О1', index_col=0)\n",
    "        info2 = pd.read_excel('160325_SO1-2.xlsx',sheetname=u'О2', index_col=0)            \n",
    "        data = x.merge(y).merge(z)\n",
    "        #data['marker'] = '0'\n",
    "        \n",
    "        zt = pd.read_csv('160325_1347.csv',skiprows=32, sep = ';')\n",
    "        a = list(zt.columns)\n",
    "        a[0] = 'lol'\n",
    "        zt.columns = a\n",
    "        start = float(np.array(zt[zt.subjects == 'subjects'][zt.lol == 3][zt.Period == '1'].iloc[[1],[9]])[0][0])\n",
    "        start2 = float(np.array(zt[zt.subjects == 'subjects'][zt.lol == 4][zt.Period == '1'].iloc[[1],[9]])[0][0])\n",
    "        \n",
    "        \n",
    "        marker = pd.read_excel('After_Soc/1/Markers_1-2.xls')\n",
    "        marker = marker[np.isfinite(marker['sec'])]\n",
    "        start_extract = float(np.array(marker.iloc[[2],[3]])[0][0])\n",
    "        start_contrib = float(np.array(marker.iloc[[5],[3]])[0][0])\n",
    "        \n",
    "        data = data.iloc[[j for j in range (0,np.array(marker['tic-tot'].astype(int))[9])]]"
   ]
  },
  {
   "cell_type": "code",
   "execution_count": null,
   "metadata": {
    "collapsed": false
   },
   "outputs": [],
   "source": [
    "markers"
   ]
  },
  {
   "cell_type": "code",
   "execution_count": 55,
   "metadata": {
    "collapsed": false
   },
   "outputs": [],
   "source": [
    "b = (15*7-27)/6."
   ]
  },
  {
   "cell_type": "code",
   "execution_count": 56,
   "metadata": {
    "collapsed": true
   },
   "outputs": [],
   "source": [
    "k = (27-b)/2100"
   ]
  },
  {
   "cell_type": "code",
   "execution_count": 57,
   "metadata": {
    "collapsed": true
   },
   "outputs": [],
   "source": [
    "def f(x):\n",
    "    return k*x+b"
   ]
  },
  {
   "cell_type": "code",
   "execution_count": 58,
   "metadata": {
    "collapsed": false
   },
   "outputs": [
    {
     "data": {
      "text/plain": [
       "13.0"
      ]
     },
     "execution_count": 58,
     "metadata": {},
     "output_type": "execute_result"
    }
   ],
   "source": [
    "f(0)"
   ]
  },
  {
   "cell_type": "code",
   "execution_count": 59,
   "metadata": {
    "collapsed": true
   },
   "outputs": [],
   "source": [
    "y31 = (1.5-f(0)/10)/300"
   ]
  },
  {
   "cell_type": "code",
   "execution_count": 60,
   "metadata": {
    "collapsed": false
   },
   "outputs": [],
   "source": [
    "lol1 = f(0)/(0.001-y3)/10"
   ]
  },
  {
   "cell_type": "code",
   "execution_count": 53,
   "metadata": {
    "collapsed": false
   },
   "outputs": [
    {
     "data": {
      "text/plain": [
       "4299.999999999998"
      ]
     },
     "execution_count": 53,
     "metadata": {},
     "output_type": "execute_result"
    }
   ],
   "source": [
    "lol2"
   ]
  },
  {
   "cell_type": "code",
   "execution_count": 61,
   "metadata": {
    "collapsed": false
   },
   "outputs": [
    {
     "data": {
      "text/plain": [
       "3899.9999999999986"
      ]
     },
     "execution_count": 61,
     "metadata": {},
     "output_type": "execute_result"
    }
   ],
   "source": [
    "lol1"
   ]
  },
  {
   "cell_type": "code",
   "execution_count": 62,
   "metadata": {
    "collapsed": false
   },
   "outputs": [
    {
     "data": {
      "text/plain": [
       "0.0006666666666666665"
      ]
     },
     "execution_count": 62,
     "metadata": {},
     "output_type": "execute_result"
    }
   ],
   "source": [
    "y31"
   ]
  },
  {
   "cell_type": "code",
   "execution_count": 54,
   "metadata": {
    "collapsed": false
   },
   "outputs": [
    {
     "data": {
      "text/plain": [
       "0.00022222222222222218"
      ]
     },
     "execution_count": 54,
     "metadata": {},
     "output_type": "execute_result"
    }
   ],
   "source": [
    "y32"
   ]
  },
  {
   "cell_type": "code",
   "execution_count": null,
   "metadata": {
    "collapsed": true
   },
   "outputs": [],
   "source": [
    ""
   ]
  }
 ],
 "metadata": {
  "kernelspec": {
   "display_name": "Python 2",
   "language": "python",
   "name": "python2"
  },
  "language_info": {
   "codemirror_mode": {
    "name": "ipython",
    "version": 2.0
   },
   "file_extension": ".py",
   "mimetype": "text/x-python",
   "name": "python",
   "nbconvert_exporter": "python",
   "pygments_lexer": "ipython2",
   "version": "2.7.11"
  }
 },
 "nbformat": 4,
 "nbformat_minor": 0
}