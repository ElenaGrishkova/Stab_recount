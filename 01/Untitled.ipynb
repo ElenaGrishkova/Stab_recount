{
 "cells": [
  {
   "cell_type": "code",
   "execution_count": 13,
   "metadata": {
    "collapsed": true
   },
   "outputs": [],
   "source": [
    "def hurst(X):\n",
    "\n",
    "\t\n",
    "\tN = len(X)\n",
    "    \n",
    "\tT = array([float(i) for i in xrange(1,N+1)])\n",
    "\tY = cumsum(X)\n",
    "\tAve_T = Y/T\n",
    "\t\n",
    "\tS_T = zeros((N))\n",
    "\tR_T = zeros((N))\n",
    "\tfor i in xrange(N):\n",
    "\t\tS_T[i] = std(X[:i+1])\n",
    "\t\tX_T = Y - T * Ave_T[i]\n",
    "\t\tR_T[i] = max(X_T[:i + 1]) - min(X_T[:i + 1])\n",
    "    \n",
    "\tR_S = R_T / S_T\n",
    "\tR_S = log(R_S)\n",
    "\tn = log(T).reshape(N, 1)\n",
    "\tH = lstsq(n[1:], R_S[1:])[0]\n",
    "\treturn H[0]"
   ]
  },
  {
   "cell_type": "code",
   "execution_count": 74,
   "metadata": {
    "collapsed": false
   },
   "outputs": [
    {
     "name": "stdout",
     "output_type": "stream",
     "text": [
      "[ 0.   0.5  1.   1.5  2.2]\n",
      "[ 0.          0.5         0.81649658  0.8291562   1.0198039 ]\n",
      "[        nan  0.          0.20273255  0.59281183  0.768847  ]\n",
      "n aka log(T) [[ 0.69314718]\n",
      " [ 1.09861229]\n",
      " [ 1.38629436]\n",
      " [ 1.60943791]]\n",
      "R_S [ 0.          0.20273255  0.59281183  0.768847  ]\n",
      "(array([ 0.3680855]), array([ 0.14370021]), 1, array([ 2.4898804]))\n",
      "[ 0.3680855]\n"
     ]
    }
   ],
   "source": [
    "from numpy.fft import fft\n",
    "from numpy import zeros, floor, log10, log, mean, array, sqrt, vstack, cumsum, \\\n",
    "   ones, log2, std\n",
    "from numpy.linalg import svd, lstsq\n",
    "import time\n",
    "import numpy as np\n",
    "np.seterr(divide='ignore', invalid='ignore')\n",
    "\n",
    "def hurst(X):\n",
    "\n",
    " \n",
    "    N = len(X)\n",
    "    \n",
    "    T = array([float(i) for i in xrange(1,N+1)])\n",
    "   \n",
    "    Y = cumsum(X)\n",
    "    \n",
    "    Ave_T = Y/T\n",
    " \n",
    "    S_T = zeros((N))\n",
    "    R_T = zeros((N))\n",
    "    for i in xrange(N):\n",
    "        S_T[i] = std(X[:i+1])\n",
    "        X_T = Y - T * Ave_T[i]      \n",
    "       \n",
    "        R_T[i] = max(X_T[:i + 1]) - min(X_T[:i + 1])\n",
    "        \n",
    "\n",
    "    R_S = R_T / S_T\n",
    "    R_S = log(R_S)\n",
    "    n = log(T).reshape(N, 1)\n",
    "    print R_T\n",
    "    print S_T\n",
    "    print R_S\n",
    "    print \"n aka log(T)\", n[1:]\n",
    "    print \"R_S\", R_S[1:]\n",
    "    H = lstsq(n[1:], R_S[1:])\n",
    "    print H\n",
    "    return H[0]\n",
    "list = [1, 2, 3, 3,4 ]\n",
    "list2 = hurst(list)\n",
    "print  list2"
   ]
  },
  {
   "cell_type": "code",
   "execution_count": 40,
   "metadata": {
    "collapsed": false
   },
   "outputs": [
    {
     "name": "stdout",
     "output_type": "stream",
     "text": [
      "0.0\n",
      "0.5\n",
      "0.816496580928\n",
      "0.829156197589\n",
      "1.01980390272\n"
     ]
    },
    {
     "data": {
      "text/plain": [
       "array([ 0.        ,  0.5       ,  0.81649658,  0.8291562 ,  1.0198039 ])"
      ]
     },
     "execution_count": 40,
     "metadata": {},
     "output_type": "execute_result"
    }
   ],
   "source": [
    "X=[1, 2, 3, 3, 4 ] \n",
    "N = len(X)\n",
    "T = array([float(i) for i in xrange(1,N+1)])\n",
    "Y = cumsum(X)\n",
    "Ave_T = Y/T\n",
    " \n",
    "S_T = zeros((N))\n",
    "R_T = zeros((N))\n",
    "for i in xrange(N):\n",
    "\t\tS_T[i] = std(X[:i+1])\n",
    "\t\tprint S_T[i]\n",
    "\t\tX_T = Y - T * Ave_T[i]\n",
    "\t\tR_T[i] = max(X_T[:i + 1]) - min(X_T[:i + 1])\n",
    "S_T"
   ]
  },
  {
   "cell_type": "code",
   "execution_count": 108,
   "metadata": {
    "collapsed": false
   },
   "outputs": [
    {
     "ename": "MergeError",
     "evalue": "No common columns to perform merge on",
     "output_type": "error",
     "traceback": [
      "\u001b[0;31m---------------------------------------------------------------------------\u001b[0m",
      "\u001b[0;31mMergeError\u001b[0m                                Traceback (most recent call last)",
      "\u001b[0;32m<ipython-input-108-b4a7a4fffcae>\u001b[0m in \u001b[0;36m<module>\u001b[0;34m()\u001b[0m\n\u001b[1;32m      9\u001b[0m \u001b[0mz\u001b[0m \u001b[1;33m=\u001b[0m \u001b[0mpandas\u001b[0m\u001b[1;33m.\u001b[0m\u001b[0mDataFrame\u001b[0m\u001b[1;33m(\u001b[0m\u001b[0mdata\u001b[0m\u001b[1;33m=\u001b[0m\u001b[0mz\u001b[0m\u001b[1;33m)\u001b[0m\u001b[1;33m\u001b[0m\u001b[0m\n\u001b[1;32m     10\u001b[0m \u001b[1;33m\u001b[0m\u001b[0m\n\u001b[0;32m---> 11\u001b[0;31m \u001b[0mdata\u001b[0m \u001b[1;33m=\u001b[0m \u001b[0mx\u001b[0m\u001b[1;33m.\u001b[0m\u001b[0mmerge\u001b[0m\u001b[1;33m(\u001b[0m\u001b[0my\u001b[0m\u001b[1;33m)\u001b[0m\u001b[1;33m.\u001b[0m\u001b[0mmerge\u001b[0m\u001b[1;33m(\u001b[0m\u001b[0mz\u001b[0m\u001b[1;33m)\u001b[0m\u001b[1;33m\u001b[0m\u001b[0m\n\u001b[0m\u001b[1;32m     12\u001b[0m \u001b[1;33m\u001b[0m\u001b[0m\n\u001b[1;32m     13\u001b[0m \u001b[1;33m\u001b[0m\u001b[0m\n",
      "\u001b[0;32mC:\\Users\\egrishkova\\AppData\\Local\\Continuum\\Anaconda2\\lib\\site-packages\\pandas\\core\\frame.pyc\u001b[0m in \u001b[0;36mmerge\u001b[0;34m(self, right, how, on, left_on, right_on, left_index, right_index, sort, suffixes, copy, indicator)\u001b[0m\n\u001b[1;32m   4605\u001b[0m                      \u001b[0mright_on\u001b[0m\u001b[1;33m=\u001b[0m\u001b[0mright_on\u001b[0m\u001b[1;33m,\u001b[0m \u001b[0mleft_index\u001b[0m\u001b[1;33m=\u001b[0m\u001b[0mleft_index\u001b[0m\u001b[1;33m,\u001b[0m\u001b[1;33m\u001b[0m\u001b[0m\n\u001b[1;32m   4606\u001b[0m                      \u001b[0mright_index\u001b[0m\u001b[1;33m=\u001b[0m\u001b[0mright_index\u001b[0m\u001b[1;33m,\u001b[0m \u001b[0msort\u001b[0m\u001b[1;33m=\u001b[0m\u001b[0msort\u001b[0m\u001b[1;33m,\u001b[0m \u001b[0msuffixes\u001b[0m\u001b[1;33m=\u001b[0m\u001b[0msuffixes\u001b[0m\u001b[1;33m,\u001b[0m\u001b[1;33m\u001b[0m\u001b[0m\n\u001b[0;32m-> 4607\u001b[0;31m                      copy=copy, indicator=indicator)\n\u001b[0m\u001b[1;32m   4608\u001b[0m \u001b[1;33m\u001b[0m\u001b[0m\n\u001b[1;32m   4609\u001b[0m     \u001b[1;32mdef\u001b[0m \u001b[0mround\u001b[0m\u001b[1;33m(\u001b[0m\u001b[0mself\u001b[0m\u001b[1;33m,\u001b[0m \u001b[0mdecimals\u001b[0m\u001b[1;33m=\u001b[0m\u001b[1;36m0\u001b[0m\u001b[1;33m,\u001b[0m \u001b[1;33m*\u001b[0m\u001b[0margs\u001b[0m\u001b[1;33m,\u001b[0m \u001b[1;33m**\u001b[0m\u001b[0mkwargs\u001b[0m\u001b[1;33m)\u001b[0m\u001b[1;33m:\u001b[0m\u001b[1;33m\u001b[0m\u001b[0m\n",
      "\u001b[0;32mC:\\Users\\egrishkova\\AppData\\Local\\Continuum\\Anaconda2\\lib\\site-packages\\pandas\\tools\\merge.pyc\u001b[0m in \u001b[0;36mmerge\u001b[0;34m(left, right, how, on, left_on, right_on, left_index, right_index, sort, suffixes, copy, indicator)\u001b[0m\n\u001b[1;32m     59\u001b[0m                          \u001b[0mright_on\u001b[0m\u001b[1;33m=\u001b[0m\u001b[0mright_on\u001b[0m\u001b[1;33m,\u001b[0m \u001b[0mleft_index\u001b[0m\u001b[1;33m=\u001b[0m\u001b[0mleft_index\u001b[0m\u001b[1;33m,\u001b[0m\u001b[1;33m\u001b[0m\u001b[0m\n\u001b[1;32m     60\u001b[0m                          \u001b[0mright_index\u001b[0m\u001b[1;33m=\u001b[0m\u001b[0mright_index\u001b[0m\u001b[1;33m,\u001b[0m \u001b[0msort\u001b[0m\u001b[1;33m=\u001b[0m\u001b[0msort\u001b[0m\u001b[1;33m,\u001b[0m \u001b[0msuffixes\u001b[0m\u001b[1;33m=\u001b[0m\u001b[0msuffixes\u001b[0m\u001b[1;33m,\u001b[0m\u001b[1;33m\u001b[0m\u001b[0m\n\u001b[0;32m---> 61\u001b[0;31m                          copy=copy, indicator=indicator)\n\u001b[0m\u001b[1;32m     62\u001b[0m     \u001b[1;32mreturn\u001b[0m \u001b[0mop\u001b[0m\u001b[1;33m.\u001b[0m\u001b[0mget_result\u001b[0m\u001b[1;33m(\u001b[0m\u001b[1;33m)\u001b[0m\u001b[1;33m\u001b[0m\u001b[0m\n\u001b[1;32m     63\u001b[0m \u001b[1;32mif\u001b[0m \u001b[0m__debug__\u001b[0m\u001b[1;33m:\u001b[0m\u001b[1;33m\u001b[0m\u001b[0m\n",
      "\u001b[0;32mC:\\Users\\egrishkova\\AppData\\Local\\Continuum\\Anaconda2\\lib\\site-packages\\pandas\\tools\\merge.pyc\u001b[0m in \u001b[0;36m__init__\u001b[0;34m(self, left, right, how, on, left_on, right_on, axis, left_index, right_index, sort, suffixes, copy, indicator)\u001b[0m\n\u001b[1;32m    536\u001b[0m             \u001b[0mwarnings\u001b[0m\u001b[1;33m.\u001b[0m\u001b[0mwarn\u001b[0m\u001b[1;33m(\u001b[0m\u001b[0mmsg\u001b[0m\u001b[1;33m,\u001b[0m \u001b[0mUserWarning\u001b[0m\u001b[1;33m)\u001b[0m\u001b[1;33m\u001b[0m\u001b[0m\n\u001b[1;32m    537\u001b[0m \u001b[1;33m\u001b[0m\u001b[0m\n\u001b[0;32m--> 538\u001b[0;31m         \u001b[0mself\u001b[0m\u001b[1;33m.\u001b[0m\u001b[0m_validate_specification\u001b[0m\u001b[1;33m(\u001b[0m\u001b[1;33m)\u001b[0m\u001b[1;33m\u001b[0m\u001b[0m\n\u001b[0m\u001b[1;32m    539\u001b[0m \u001b[1;33m\u001b[0m\u001b[0m\n\u001b[1;32m    540\u001b[0m         \u001b[1;31m# note this function has side effects\u001b[0m\u001b[1;33m\u001b[0m\u001b[1;33m\u001b[0m\u001b[0m\n",
      "\u001b[0;32mC:\\Users\\egrishkova\\AppData\\Local\\Continuum\\Anaconda2\\lib\\site-packages\\pandas\\tools\\merge.pyc\u001b[0m in \u001b[0;36m_validate_specification\u001b[0;34m(self)\u001b[0m\n\u001b[1;32m    881\u001b[0m                     self.right.columns)\n\u001b[1;32m    882\u001b[0m                 \u001b[1;32mif\u001b[0m \u001b[0mlen\u001b[0m\u001b[1;33m(\u001b[0m\u001b[0mcommon_cols\u001b[0m\u001b[1;33m)\u001b[0m \u001b[1;33m==\u001b[0m \u001b[1;36m0\u001b[0m\u001b[1;33m:\u001b[0m\u001b[1;33m\u001b[0m\u001b[0m\n\u001b[0;32m--> 883\u001b[0;31m                     \u001b[1;32mraise\u001b[0m \u001b[0mMergeError\u001b[0m\u001b[1;33m(\u001b[0m\u001b[1;34m'No common columns to perform merge on'\u001b[0m\u001b[1;33m)\u001b[0m\u001b[1;33m\u001b[0m\u001b[0m\n\u001b[0m\u001b[1;32m    884\u001b[0m                 \u001b[1;32mif\u001b[0m \u001b[1;32mnot\u001b[0m \u001b[0mcommon_cols\u001b[0m\u001b[1;33m.\u001b[0m\u001b[0mis_unique\u001b[0m\u001b[1;33m:\u001b[0m\u001b[1;33m\u001b[0m\u001b[0m\n\u001b[1;32m    885\u001b[0m                     raise MergeError(\"Data columns not unique: %s\"\n",
      "\u001b[0;31mMergeError\u001b[0m: No common columns to perform merge on"
     ]
    }
   ],
   "source": [
    "import pandas\n",
    "import numpy as np\n",
    "\n",
    "x=[1,2,3,4,5,6,7,8,9,10]\n",
    "y=[1,2,3,4,5,6,7,8,9,10]\n",
    "z=[1,2,3,4,5,6,7,8,9,10]\n",
    "x = pandas.DataFrame(data=x , columns=['X'])\n",
    "y = pandas.DataFrame(data=y)\n",
    "z = pandas.DataFrame(data=z)\n",
    "\n",
    "data = x.merge(y).merge(z)\n",
    "\n",
    "\n",
    "\"\"\"df = data.rolling( window=3, min_periods=1,center=True).mean()\n",
    "print df\n",
    "df = df**2\n",
    "print df\n",
    "df = np.array(df.sum(axis = 1))\n",
    "print df\n",
    "ndf = [df[i:i+3] for i in range(0, len(df), 3)]\n",
    "print ndf\"\"\"\n",
    "data = data.reindex(columns=['X','Y','Z'])\n",
    "print \"data \",data\n",
    "de = data[['X','Y','Z']].rolling( window=3, min_periods=1,center=True).mean().diff()\n",
    "de = de[np.isfinite(de['X'])]\n",
    "\n",
    "print \"de \",de\n",
    "nde = [np.array(de)[i:i+9] for i in range(0, len(de), 9)]\n",
    "print \"nde \",nde\n",
    "\n",
    "amax = [np.amax(j,axis = 0) for j in nde]\n",
    "print \"amax \",amax\n",
    "amin = [np.amin(j,axis = 0) for j in nde]\n",
    "print \"amin \",amin\n",
    "delta = (np.array(amax) - np.array(amin))/3\n",
    "print \"delta \",delta\n",
    "nde = [(nde[j] - amin[j])//delta[j]+1 for j in range(len(amin))]\n",
    "t = [j[:,0]*1000000+j[:,1]*1000+j[:,2] for j in nde]\n",
    "entropy = [-sum((rle(np.sort(i))[0]/1500.)*np.log2(rle(np.sort(i))[0]/1500.)) for i in t]"
   ]
  },
  {
   "cell_type": "code",
   "execution_count": null,
   "metadata": {
    "collapsed": true
   },
   "outputs": [],
   "source": []
  },
  {
   "cell_type": "code",
   "execution_count": null,
   "metadata": {
    "collapsed": true
   },
   "outputs": [],
   "source": []
  }
 ],
 "metadata": {
  "kernelspec": {
   "display_name": "Python 2",
   "language": "python",
   "name": "python2"
  },
  "language_info": {
   "codemirror_mode": {
    "name": "ipython",
    "version": 2
   },
   "file_extension": ".py",
   "mimetype": "text/x-python",
   "name": "python",
   "nbconvert_exporter": "python",
   "pygments_lexer": "ipython2",
   "version": "2.7.13"
  }
 },
 "nbformat": 4,
 "nbformat_minor": 2
}
