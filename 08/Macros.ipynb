{
 "cells": [
  {
   "cell_type": "code",
   "execution_count": 235,
   "metadata": {
    "collapsed": false
   },
   "outputs": [],
   "source": [
    "import pandas as pd\n",
    "import numpy as np\n",
    "import pyeeg\n",
    "from numpy.random import randn\n",
    "from pandas import ExcelWriter\n",
    "from openpyxl import Workbook\n",
    "from openpyxl import load_workbook"
   ]
  },
  {
   "cell_type": "code",
   "execution_count": 308,
   "metadata": {
    "collapsed": false
   },
   "outputs": [
    {
     "name": "stderr",
     "output_type": "stream",
     "text": [
      "/Users/antonzaharenkov/Documents/anaconda/lib/python2.7/site-packages/ipykernel/__main__.py:18: UserWarning: Boolean Series key will be reindexed to match DataFrame index.\n",
      "/Users/antonzaharenkov/Documents/anaconda/lib/python2.7/site-packages/ipykernel/__main__.py:19: UserWarning: Boolean Series key will be reindexed to match DataFrame index.\n"
     ]
    }
   ],
   "source": [
    "x = pd.read_csv('Before_Soc/1/0000_X', skiprows=10, sep=')', names = ['time','X'],index_col = False)\n",
    "y = pd.read_csv('Before_Soc/1/0000_Y', skiprows=10, sep=')', names = ['time','Y'],index_col = False)\n",
    "z = pd.read_csv('Before_Soc/1/0001_PZ', skiprows=10, sep=')',names = ['time','Z'],index_col = False)\n",
    "info = pd.read_excel('160325_SO1-2.xlsx',sheetname=u'160325_О1', index_col=0)\n",
    "info2 = pd.read_excel('160325_SO1-2.xlsx',sheetname=u'О2', index_col=0)\n",
    "data = x.merge(y).merge(z)\n",
    "#data['marker'] = '0'\n",
    "data['stad'] = '0'\n",
    "data['Profit'] = '0'\n",
    "data['TP'] = '0'\n",
    "data['LP'] = '0'\n",
    "data['Sum'] = '0'\n",
    "data['TH'] = '0'\n",
    "zt = pd.read_csv('160325_1145.csv',skiprows=32, sep = ';')\n",
    "a = list(zt.columns)\n",
    "a[0] = 'lol'\n",
    "zt.columns = a\n",
    "start = float(np.array(zt[zt.subjects == 'subjects'][zt.lol == 3][zt.Period == '1'].iloc[[1],[9]])[0][0])\n",
    "start2 = float(np.array(zt[zt.subjects == 'subjects'][zt.lol == 4][zt.Period == '1'].iloc[[1],[9]])[0][0])"
   ]
  },
  {
   "cell_type": "code",
   "execution_count": 309,
   "metadata": {
    "collapsed": false
   },
   "outputs": [],
   "source": [
    "marker = pd.read_excel('Before_Soc/1/Markers_1-1.xls')\n",
    "marker = marker[np.isfinite(marker['sec'])]\n",
    "start_extract = float(np.array(marker.iloc[[2],[3]])[0][0])\n",
    "start_contrib = float(np.array(marker.iloc[[5],[3]])[0][0])"
   ]
  },
  {
   "cell_type": "code",
   "execution_count": 324,
   "metadata": {
    "collapsed": false
   },
   "outputs": [
    {
     "data": {
      "text/html": [
       "<div>\n",
       "<table border=\"1\" class=\"dataframe\">\n",
       "  <thead>\n",
       "    <tr style=\"text-align: right;\">\n",
       "      <th></th>\n",
       "      <th>[Main]</th>\n",
       "      <th>Unnamed: 1</th>\n",
       "      <th>3</th>\n",
       "      <th>tic-tot</th>\n",
       "      <th>sec-tot</th>\n",
       "      <th>tic</th>\n",
       "      <th>min</th>\n",
       "      <th>sec</th>\n",
       "      <th>t</th>\n",
       "      <th>Δt, sec</th>\n",
       "    </tr>\n",
       "  </thead>\n",
       "  <tbody>\n",
       "    <tr>\n",
       "      <th>4</th>\n",
       "      <td>Position=1529</td>\n",
       "      <td>ГЗ</td>\n",
       "      <td>[Marker 1]</td>\n",
       "      <td>1529.0</td>\n",
       "      <td>30.0</td>\n",
       "      <td>29.0</td>\n",
       "      <td>0.0</td>\n",
       "      <td>30.0</td>\n",
       "      <td>0:30.29</td>\n",
       "      <td>30.0</td>\n",
       "    </tr>\n",
       "    <tr>\n",
       "      <th>7</th>\n",
       "      <td>Position=3118</td>\n",
       "      <td>ГЗ_end</td>\n",
       "      <td>[Marker 2]</td>\n",
       "      <td>3118.0</td>\n",
       "      <td>62.0</td>\n",
       "      <td>18.0</td>\n",
       "      <td>1.0</td>\n",
       "      <td>2.0</td>\n",
       "      <td>1:2.18</td>\n",
       "      <td>32.0</td>\n",
       "    </tr>\n",
       "    <tr>\n",
       "      <th>10</th>\n",
       "      <td>Position=4782</td>\n",
       "      <td>Extract start 1 per</td>\n",
       "      <td>[Marker 3]</td>\n",
       "      <td>4782.0</td>\n",
       "      <td>95.0</td>\n",
       "      <td>32.0</td>\n",
       "      <td>1.0</td>\n",
       "      <td>35.0</td>\n",
       "      <td>1:35.32</td>\n",
       "      <td>33.0</td>\n",
       "    </tr>\n",
       "    <tr>\n",
       "      <th>13</th>\n",
       "      <td>Position=21390</td>\n",
       "      <td>Extract end</td>\n",
       "      <td>[Marker 4]</td>\n",
       "      <td>21390.0</td>\n",
       "      <td>427.0</td>\n",
       "      <td>40.0</td>\n",
       "      <td>7.0</td>\n",
       "      <td>7.0</td>\n",
       "      <td>7:7.40</td>\n",
       "      <td>332.0</td>\n",
       "    </tr>\n",
       "    <tr>\n",
       "      <th>16</th>\n",
       "      <td>Position=22504</td>\n",
       "      <td>Show res of Extract</td>\n",
       "      <td>[Marker 5]</td>\n",
       "      <td>22504.0</td>\n",
       "      <td>450.0</td>\n",
       "      <td>4.0</td>\n",
       "      <td>7.0</td>\n",
       "      <td>30.0</td>\n",
       "      <td>7:30.4</td>\n",
       "      <td>23.0</td>\n",
       "    </tr>\n",
       "    <tr>\n",
       "      <th>19</th>\n",
       "      <td>Position=23954</td>\n",
       "      <td>Contrib start 1 per</td>\n",
       "      <td>[Marker 6]</td>\n",
       "      <td>23954.0</td>\n",
       "      <td>479.0</td>\n",
       "      <td>4.0</td>\n",
       "      <td>7.0</td>\n",
       "      <td>59.0</td>\n",
       "      <td>7:59.4</td>\n",
       "      <td>29.0</td>\n",
       "    </tr>\n",
       "    <tr>\n",
       "      <th>22</th>\n",
       "      <td>Position=49373</td>\n",
       "      <td>Contrib end</td>\n",
       "      <td>[Marker 7]</td>\n",
       "      <td>49373.0</td>\n",
       "      <td>987.0</td>\n",
       "      <td>23.0</td>\n",
       "      <td>16.0</td>\n",
       "      <td>27.0</td>\n",
       "      <td>16:27.23</td>\n",
       "      <td>508.0</td>\n",
       "    </tr>\n",
       "  </tbody>\n",
       "</table>\n",
       "</div>"
      ],
      "text/plain": [
       "            [Main]           Unnamed: 1           3  tic-tot  sec-tot   tic  \\\n",
       "4    Position=1529                   ГЗ  [Marker 1]   1529.0     30.0  29.0   \n",
       "7    Position=3118               ГЗ_end  [Marker 2]   3118.0     62.0  18.0   \n",
       "10   Position=4782  Extract start 1 per  [Marker 3]   4782.0     95.0  32.0   \n",
       "13  Position=21390          Extract end  [Marker 4]  21390.0    427.0  40.0   \n",
       "16  Position=22504  Show res of Extract  [Marker 5]  22504.0    450.0   4.0   \n",
       "19  Position=23954  Contrib start 1 per  [Marker 6]  23954.0    479.0   4.0   \n",
       "22  Position=49373          Contrib end  [Marker 7]  49373.0    987.0  23.0   \n",
       "\n",
       "     min   sec         t  Δt, sec  \n",
       "4    0.0  30.0   0:30.29     30.0  \n",
       "7    1.0   2.0    1:2.18     32.0  \n",
       "10   1.0  35.0   1:35.32     33.0  \n",
       "13   7.0   7.0    7:7.40    332.0  \n",
       "16   7.0  30.0    7:30.4     23.0  \n",
       "19   7.0  59.0    7:59.4     29.0  \n",
       "22  16.0  27.0  16:27.23    508.0  "
      ]
     },
     "execution_count": 324,
     "metadata": {},
     "output_type": "execute_result"
    }
   ],
   "source": [
    "marker"
   ]
  },
  {
   "cell_type": "code",
   "execution_count": 310,
   "metadata": {
    "collapsed": false
   },
   "outputs": [
    {
     "name": "stderr",
     "output_type": "stream",
     "text": [
      "/Users/antonzaharenkov/Documents/anaconda/lib/python2.7/site-packages/ipykernel/__main__.py:2: UserWarning: Boolean Series key will be reindexed to match DataFrame index.\n",
      "  from ipykernel import kernelapp as app\n",
      "/Users/antonzaharenkov/Documents/anaconda/lib/python2.7/site-packages/ipykernel/__main__.py:4: UserWarning: Boolean Series key will be reindexed to match DataFrame index.\n",
      "/Users/antonzaharenkov/Documents/anaconda/lib/python2.7/site-packages/ipykernel/__main__.py:6: UserWarning: Boolean Series key will be reindexed to match DataFrame index.\n",
      "/Users/antonzaharenkov/Documents/anaconda/lib/python2.7/site-packages/ipykernel/__main__.py:8: UserWarning: Boolean Series key will be reindexed to match DataFrame index.\n",
      "/Users/antonzaharenkov/Documents/anaconda/lib/python2.7/site-packages/ipykernel/__main__.py:11: UserWarning: Boolean Series key will be reindexed to match DataFrame index.\n",
      "/Users/antonzaharenkov/Documents/anaconda/lib/python2.7/site-packages/ipykernel/__main__.py:13: UserWarning: Boolean Series key will be reindexed to match DataFrame index.\n",
      "/Users/antonzaharenkov/Documents/anaconda/lib/python2.7/site-packages/ipykernel/__main__.py:15: UserWarning: Boolean Series key will be reindexed to match DataFrame index.\n",
      "/Users/antonzaharenkov/Documents/anaconda/lib/python2.7/site-packages/ipykernel/__main__.py:17: UserWarning: Boolean Series key will be reindexed to match DataFrame index.\n",
      "/Users/antonzaharenkov/Documents/anaconda/lib/python2.7/site-packages/ipykernel/__main__.py:20: UserWarning: Boolean Series key will be reindexed to match DataFrame index.\n",
      "/Users/antonzaharenkov/Documents/anaconda/lib/python2.7/site-packages/ipykernel/__main__.py:21: UserWarning: Boolean Series key will be reindexed to match DataFrame index.\n",
      "/Users/antonzaharenkov/Documents/anaconda/lib/python2.7/site-packages/ipykernel/__main__.py:22: UserWarning: Boolean Series key will be reindexed to match DataFrame index.\n",
      "/Users/antonzaharenkov/Documents/anaconda/lib/python2.7/site-packages/ipykernel/__main__.py:23: UserWarning: Boolean Series key will be reindexed to match DataFrame index.\n",
      "/Users/antonzaharenkov/Documents/anaconda/lib/python2.7/site-packages/ipykernel/__main__.py:24: UserWarning: Boolean Series key will be reindexed to match DataFrame index.\n",
      "/Users/antonzaharenkov/Documents/anaconda/lib/python2.7/site-packages/ipykernel/__main__.py:27: UserWarning: Boolean Series key will be reindexed to match DataFrame index.\n",
      "/Users/antonzaharenkov/Documents/anaconda/lib/python2.7/site-packages/ipykernel/__main__.py:28: UserWarning: Boolean Series key will be reindexed to match DataFrame index.\n",
      "/Users/antonzaharenkov/Documents/anaconda/lib/python2.7/site-packages/ipykernel/__main__.py:29: UserWarning: Boolean Series key will be reindexed to match DataFrame index.\n",
      "/Users/antonzaharenkov/Documents/anaconda/lib/python2.7/site-packages/ipykernel/__main__.py:30: UserWarning: Boolean Series key will be reindexed to match DataFrame index.\n"
     ]
    }
   ],
   "source": [
    "n = 0\n",
    "data.iloc[[j for j in range (int(start_extract + 50*(float(np.array(zt[zt.subjects == 'subjects'][zt.lol == 3][zt.Period == '1'].iloc[[n],[9]])[0][0]) - start)), int(start_extract + 50*(float(np.array(zt[zt.subjects == 'subjects'][zt.lol == 3][zt.Period == '1'].iloc[[n],[10]])[0][0]) - start)))],[4]] = 'Extract per{} start'.format(1)\n",
    "\n",
    "data.iloc[[j for j in range (int(start_extract + 50*(float(np.array(zt[zt.subjects == 'subjects'][zt.lol == 3][zt.Period == '1'].iloc[[n],[9]])[0][0]) - start)), int(start_extract + 50*(float(np.array(zt[zt.subjects == 'subjects'][zt.lol == 3][zt.Period == '1'].iloc[[n],[10]])[0][0]) - start)))],[5]] = int(np.array(zt[zt.subjects == 'subjects'][zt.lol == 3][zt.Period == '1'].iloc[[n],[5]])[0][0])\n",
    "\n",
    "data.iloc[[j for j in range (int(start_extract + 50*(float(np.array(zt[zt.subjects == 'subjects'][zt.lol == 3][zt.Period == '1'].iloc[[n],[9]])[0][0]) - start)), int(start_extract + 50*(float(np.array(zt[zt.subjects == 'subjects'][zt.lol == 3][zt.Period == '1'].iloc[[n],[10]])[0][0]) - start)))],[7]] = int(np.array(zt[zt.subjects == 'subjects'][zt.lol == 3][zt.Period == '1'].iloc[[n],[30]])[0][0])\n",
    "    \n",
    "data.iloc[[j for j in range (int(start_extract + 50*(float(np.array(zt[zt.subjects == 'subjects'][zt.lol == 3][zt.Period == '1'].iloc[[n],[9]])[0][0]) - start)), int(start_extract + 50*(float(np.array(zt[zt.subjects == 'subjects'][zt.lol == 3][zt.Period == '1'].iloc[[n],[10]])[0][0]) - start)))],[8]] = int(np.array(zt[zt.subjects == 'subjects'][zt.lol == 3][zt.Period == '1'].iloc[[n],[29]])[0][0])\n",
    "\n",
    "for u in range(2, 11):\n",
    "    data.iloc[[j for j in range (int(start_extract + 50*(float(np.array(zt[zt.subjects == 'subjects'][zt.lol == 3][zt.Period == '{}'.format(u)].iloc[[n],[9]])[0][0]) - start)), int(start_extract + 50*(float(np.array(zt[zt.subjects == 'subjects'][zt.lol == 3][zt.Period == '{}'.format(u)].iloc[[n],[10]])[0][0]) - start)))],[4]] = 'Extract per{} start'.format(u)\n",
    "    \n",
    "    data.iloc[[j for j in range (int(start_extract + 50*(float(np.array(zt[zt.subjects == 'subjects'][zt.lol == 3][zt.Period == '{}'.format(u)].iloc[[n],[9]])[0][0]) - start)), int(start_extract + 50*(float(np.array(zt[zt.subjects == 'subjects'][zt.lol == 3][zt.Period == '{}'.format(u)].iloc[[n],[10]])[0][0]) - start)))],[5]] = int(np.array(zt[zt.subjects == 'subjects'][zt.lol == 3][zt.Period == '{}'.format(u)].iloc[[n],[5]])[0][0])\n",
    "\n",
    "    data.iloc[[j for j in range (int(start_extract + 50*(float(np.array(zt[zt.subjects == 'subjects'][zt.lol == 3][zt.Period == '{}'.format(u)].iloc[[n],[9]])[0][0]) - start)), int(start_extract + 50*(float(np.array(zt[zt.subjects == 'subjects'][zt.lol == 3][zt.Period == '{}'.format(u)].iloc[[n],[10]])[0][0]) - start)))],[7]] = int(np.array(zt[zt.subjects == 'subjects'][zt.lol == 3][zt.Period == '{}'.format(u)].iloc[[n],[30]])[0][0])\n",
    "    \n",
    "    data.iloc[[j for j in range (int(start_extract + 50*(float(np.array(zt[zt.subjects == 'subjects'][zt.lol == 3][zt.Period == '{}'.format(u)].iloc[[n],[9]])[0][0]) - start)), int(start_extract + 50*(float(np.array(zt[zt.subjects == 'subjects'][zt.lol == 3][zt.Period == '{}'.format(u)].iloc[[n],[10]])[0][0]) - start)))],[8]] = int(np.array(zt[zt.subjects == 'subjects'][zt.lol == 3][zt.Period == '{}'.format(u)].iloc[[n],[29]])[0][0])\n",
    "\n",
    "\n",
    "    if float(np.array(zt[zt.subjects == 'subjects'][zt.lol == 3][zt.Period == '{}'.format(u)].iloc[[u],[12]])[0][0]) == 0:\n",
    "        data.iloc[[j for j in range (int(start_extract + 50*(float(np.array(zt[zt.subjects == 'subjects'][zt.lol == 3][zt.Period == '{}'.format(u)].iloc[[n],[11]])[0][0]) - start)), int(start_extract + 50*(float(np.array(zt[zt.subjects == 'subjects'][zt.lol == 3][zt.Period == '{}'.format(u)].iloc[[n],[11]])[0][0]) + 12 - start)))],[4]] = 'Extract per{} res'.format(u-1)\n",
    "        data.iloc[[j for j in range (int(start_extract + 50*(float(np.array(zt[zt.subjects == 'subjects'][zt.lol == 3][zt.Period == '{}'.format(u)].iloc[[n],[11]])[0][0]) - start)), int(start_extract + 50*(float(np.array(zt[zt.subjects == 'subjects'][zt.lol == 3][zt.Period == '{}'.format(u)].iloc[[n],[11]])[0][0]) + 12 - start)))],[5]] = int(np.array(zt[zt.subjects == 'subjects'][zt.lol == 3][zt.Period == '{}'.format(u-1)].iloc[[n],[5]])[0][0])\n",
    "        data.iloc[[j for j in range (int(start_extract + 50*(float(np.array(zt[zt.subjects == 'subjects'][zt.lol == 3][zt.Period == '{}'.format(u)].iloc[[n],[11]])[0][0]) - start)), int(start_extract + 50*(float(np.array(zt[zt.subjects == 'subjects'][zt.lol == 3][zt.Period == '{}'.format(u)].iloc[[n],[11]])[0][0]) + 12 - start)))],[7]] = int(np.array(zt[zt.subjects == 'subjects'][zt.lol == 3][zt.Period == '{}'.format(u-1)].iloc[[n],[30]])[0][0])\n",
    "        data.iloc[[j for j in range (int(start_extract + 50*(float(np.array(zt[zt.subjects == 'subjects'][zt.lol == 3][zt.Period == '{}'.format(u)].iloc[[n],[11]])[0][0]) - start)), int(start_extract + 50*(float(np.array(zt[zt.subjects == 'subjects'][zt.lol == 3][zt.Period == '{}'.format(u)].iloc[[n],[11]])[0][0]) + 12 - start)))],[8]] = int(np.array(zt[zt.subjects == 'subjects'][zt.lol == 3][zt.Period == '{}'.format(u-1)].iloc[[n],[29]])[0][0])\n",
    "\n",
    "    else:    \n",
    "        data.iloc[[j for j in range (int(start_extract + 50*(float(np.array(zt[zt.subjects == 'subjects'][zt.lol == 3][zt.Period == '{}'.format(u)].iloc[[n],[11]])[0][0]) - start)), int(start_extract + 50*(float(np.array(zt[zt.subjects == 'subjects'][zt.lol == 3][zt.Period == '{}'.format(u)].iloc[[n],[12]])[0][0]) - start)))],[4]] = 'Extract per{} res'.format(u-1)\n",
    "        data.iloc[[j for j in range (int(start_extract + 50*(float(np.array(zt[zt.subjects == 'subjects'][zt.lol == 3][zt.Period == '{}'.format(u)].iloc[[n],[11]])[0][0]) - start)), int(start_extract + 50*(float(np.array(zt[zt.subjects == 'subjects'][zt.lol == 3][zt.Period == '{}'.format(u)].iloc[[n],[12]])[0][0]) - start)))],[5]] = int(np.array(zt[zt.subjects == 'subjects'][zt.lol == 3][zt.Period == '{}'.format(u-1)].iloc[[n],[5]])[0][0])\n",
    "        data.iloc[[j for j in range (int(start_extract + 50*(float(np.array(zt[zt.subjects == 'subjects'][zt.lol == 3][zt.Period == '{}'.format(u)].iloc[[n],[11]])[0][0]) - start)), int(start_extract + 50*(float(np.array(zt[zt.subjects == 'subjects'][zt.lol == 3][zt.Period == '{}'.format(u)].iloc[[n],[12]])[0][0]) - start)))],[7]] = int(np.array(zt[zt.subjects == 'subjects'][zt.lol == 3][zt.Period == '{}'.format(u-1)].iloc[[n],[30]])[0][0])\n",
    "        data.iloc[[j for j in range (int(start_extract + 50*(float(np.array(zt[zt.subjects == 'subjects'][zt.lol == 3][zt.Period == '{}'.format(u)].iloc[[n],[11]])[0][0]) - start)), int(start_extract + 50*(float(np.array(zt[zt.subjects == 'subjects'][zt.lol == 3][zt.Period == '{}'.format(u)].iloc[[n],[12]])[0][0]) - start)))],[8]] = int(np.array(zt[zt.subjects == 'subjects'][zt.lol == 3][zt.Period == '{}'.format(u-1)].iloc[[n],[29]])[0][0])"
   ]
  },
  {
   "cell_type": "code",
   "execution_count": 318,
   "metadata": {
    "collapsed": false
   },
   "outputs": [
    {
     "name": "stderr",
     "output_type": "stream",
     "text": [
      "/Users/antonzaharenkov/Documents/anaconda/lib/python2.7/site-packages/ipykernel/__main__.py:2: UserWarning: Boolean Series key will be reindexed to match DataFrame index.\n",
      "  from ipykernel import kernelapp as app\n",
      "/Users/antonzaharenkov/Documents/anaconda/lib/python2.7/site-packages/ipykernel/__main__.py:4: UserWarning: Boolean Series key will be reindexed to match DataFrame index.\n",
      "/Users/antonzaharenkov/Documents/anaconda/lib/python2.7/site-packages/ipykernel/__main__.py:6: UserWarning: Boolean Series key will be reindexed to match DataFrame index.\n",
      "/Users/antonzaharenkov/Documents/anaconda/lib/python2.7/site-packages/ipykernel/__main__.py:8: UserWarning: Boolean Series key will be reindexed to match DataFrame index.\n",
      "/Users/antonzaharenkov/Documents/anaconda/lib/python2.7/site-packages/ipykernel/__main__.py:10: UserWarning: Boolean Series key will be reindexed to match DataFrame index.\n",
      "/Users/antonzaharenkov/Documents/anaconda/lib/python2.7/site-packages/ipykernel/__main__.py:12: UserWarning: Boolean Series key will be reindexed to match DataFrame index.\n",
      "/Users/antonzaharenkov/Documents/anaconda/lib/python2.7/site-packages/ipykernel/__main__.py:15: UserWarning: Boolean Series key will be reindexed to match DataFrame index.\n",
      "/Users/antonzaharenkov/Documents/anaconda/lib/python2.7/site-packages/ipykernel/__main__.py:17: UserWarning: Boolean Series key will be reindexed to match DataFrame index.\n",
      "/Users/antonzaharenkov/Documents/anaconda/lib/python2.7/site-packages/ipykernel/__main__.py:19: UserWarning: Boolean Series key will be reindexed to match DataFrame index.\n",
      "/Users/antonzaharenkov/Documents/anaconda/lib/python2.7/site-packages/ipykernel/__main__.py:21: UserWarning: Boolean Series key will be reindexed to match DataFrame index.\n",
      "/Users/antonzaharenkov/Documents/anaconda/lib/python2.7/site-packages/ipykernel/__main__.py:23: UserWarning: Boolean Series key will be reindexed to match DataFrame index.\n",
      "/Users/antonzaharenkov/Documents/anaconda/lib/python2.7/site-packages/ipykernel/__main__.py:25: UserWarning: Boolean Series key will be reindexed to match DataFrame index.\n",
      "/Users/antonzaharenkov/Documents/anaconda/lib/python2.7/site-packages/ipykernel/__main__.py:29: UserWarning: Boolean Series key will be reindexed to match DataFrame index.\n",
      "/Users/antonzaharenkov/Documents/anaconda/lib/python2.7/site-packages/ipykernel/__main__.py:30: UserWarning: Boolean Series key will be reindexed to match DataFrame index.\n",
      "/Users/antonzaharenkov/Documents/anaconda/lib/python2.7/site-packages/ipykernel/__main__.py:31: UserWarning: Boolean Series key will be reindexed to match DataFrame index.\n",
      "/Users/antonzaharenkov/Documents/anaconda/lib/python2.7/site-packages/ipykernel/__main__.py:32: UserWarning: Boolean Series key will be reindexed to match DataFrame index.\n",
      "/Users/antonzaharenkov/Documents/anaconda/lib/python2.7/site-packages/ipykernel/__main__.py:33: UserWarning: Boolean Series key will be reindexed to match DataFrame index.\n",
      "/Users/antonzaharenkov/Documents/anaconda/lib/python2.7/site-packages/ipykernel/__main__.py:34: UserWarning: Boolean Series key will be reindexed to match DataFrame index.\n",
      "/Users/antonzaharenkov/Documents/anaconda/lib/python2.7/site-packages/ipykernel/__main__.py:35: UserWarning: Boolean Series key will be reindexed to match DataFrame index.\n",
      "/Users/antonzaharenkov/Documents/anaconda/lib/python2.7/site-packages/ipykernel/__main__.py:38: UserWarning: Boolean Series key will be reindexed to match DataFrame index.\n",
      "/Users/antonzaharenkov/Documents/anaconda/lib/python2.7/site-packages/ipykernel/__main__.py:39: UserWarning: Boolean Series key will be reindexed to match DataFrame index.\n",
      "/Users/antonzaharenkov/Documents/anaconda/lib/python2.7/site-packages/ipykernel/__main__.py:40: UserWarning: Boolean Series key will be reindexed to match DataFrame index.\n",
      "/Users/antonzaharenkov/Documents/anaconda/lib/python2.7/site-packages/ipykernel/__main__.py:41: UserWarning: Boolean Series key will be reindexed to match DataFrame index.\n",
      "/Users/antonzaharenkov/Documents/anaconda/lib/python2.7/site-packages/ipykernel/__main__.py:42: UserWarning: Boolean Series key will be reindexed to match DataFrame index.\n",
      "/Users/antonzaharenkov/Documents/anaconda/lib/python2.7/site-packages/ipykernel/__main__.py:43: UserWarning: Boolean Series key will be reindexed to match DataFrame index.\n"
     ]
    }
   ],
   "source": [
    "n = 0\n",
    "data.iloc[[j for j in range (int(start_contrib + 50*(float(np.array(zt[zt.subjects == 'subjects'][zt.lol == 4][zt.Period == '1'].iloc[[n],[9]])[0][0]) - start2)), int(start_contrib + 50*(float(np.array(zt[zt.subjects == 'subjects'][zt.lol == 4][zt.Period == '1'].iloc[[n],[10]])[0][0]) - start2)))],[4]] = 'Contrib per{} start'.format(1)\n",
    "\n",
    "data.iloc[[j for j in range (int(start_contrib + 50*(float(np.array(zt[zt.subjects == 'subjects'][zt.lol == 4][zt.Period == '1'].iloc[[n],[9]])[0][0]) - start2)), int(start_contrib + 50*(float(np.array(zt[zt.subjects == 'subjects'][zt.lol == 4][zt.Period == '1'].iloc[[n],[10]])[0][0]) - start2)))],[5]] = int(np.array(zt[zt.subjects == 'subjects'][zt.lol == 4][zt.Period == '1'].iloc[[n],[5]])[0][0])\n",
    "\n",
    "data.iloc[[j for j in range (int(start_contrib + 50*(float(np.array(zt[zt.subjects == 'subjects'][zt.lol == 4][zt.Period == '1'].iloc[[n],[9]])[0][0]) - start2)), int(start_contrib + 50*(float(np.array(zt[zt.subjects == 'subjects'][zt.lol == 4][zt.Period == '1'].iloc[[n],[10]])[0][0]) - start2)))],[6]] = int(np.array(zt[zt.subjects == 'subjects'][zt.lol == 4][zt.Period == '1'].iloc[[n],[50]])[0][0])\n",
    "    \n",
    "data.iloc[[j for j in range (int(start_contrib + 50*(float(np.array(zt[zt.subjects == 'subjects'][zt.lol == 4][zt.Period == '1'].iloc[[n],[9]])[0][0]) - start2)), int(start_contrib + 50*(float(np.array(zt[zt.subjects == 'subjects'][zt.lol == 4][zt.Period == '1'].iloc[[n],[10]])[0][0]) - start2)))],[8]] = int(np.array(zt[zt.subjects == 'subjects'][zt.lol == 4][zt.Period == '1'].iloc[[n],[48]])[0][0])\n",
    "\n",
    "data.iloc[[j for j in range (int(start_contrib + 50*(float(np.array(zt[zt.subjects == 'subjects'][zt.lol == 4][zt.Period == '1'].iloc[[n],[9]])[0][0]) - start2)), int(start_contrib + 50*(float(np.array(zt[zt.subjects == 'subjects'][zt.lol == 4][zt.Period == '1'].iloc[[n],[10]])[0][0]) - start2)))],[9]] = float(np.array(zt[zt.subjects == 'subjects'][zt.lol == 4][zt.Period == '1'].iloc[[n],[29]])[0][0])\n",
    "\n",
    "data.iloc[[j for j in range (int(start_contrib + 50*(float(np.array(zt[zt.subjects == 'subjects'][zt.lol == 4][zt.Period == '1'].iloc[[n],[9]])[0][0]) - start2)), int(start_contrib + 50*(float(np.array(zt[zt.subjects == 'subjects'][zt.lol == 4][zt.Period == '1'].iloc[[n],[10]])[0][0]) - start2)))],[9]] += float(np.array(zt[zt.subjects == 'subjects'][zt.lol == 4][zt.Period == '1'].iloc[[n],[32]])[0][0])\n",
    "\n",
    "for u in range(2, 11):\n",
    "    data.iloc[[j for j in range (int(start_contrib + 50*(float(np.array(zt[zt.subjects == 'subjects'][zt.lol == 4][zt.Period == '{}'.format(u)].iloc[[n],[9]])[0][0]) - start2)), int(start_contrib + 50*(float(np.array(zt[zt.subjects == 'subjects'][zt.lol == 4][zt.Period == '{}'.format(u)].iloc[[n],[10]])[0][0]) - start2)))],[4]] = 'Contrib per{} start'.format(u)\n",
    "    \n",
    "    data.iloc[[j for j in range (int(start_contrib + 50*(float(np.array(zt[zt.subjects == 'subjects'][zt.lol == 4][zt.Period == '{}'.format(u)].iloc[[n],[9]])[0][0]) - start2)), int(start_contrib + 50*(float(np.array(zt[zt.subjects == 'subjects'][zt.lol == 4][zt.Period == '{}'.format(u)].iloc[[n],[10]])[0][0]) - start2)))],[5]] = int(np.array(zt[zt.subjects == 'subjects'][zt.lol == 4][zt.Period == '{}'.format(u)].iloc[[n],[5]])[0][0])\n",
    "\n",
    "    data.iloc[[j for j in range (int(start_contrib + 50*(float(np.array(zt[zt.subjects == 'subjects'][zt.lol == 4][zt.Period == '{}'.format(u)].iloc[[n],[9]])[0][0]) - start2)), int(start_contrib + 50*(float(np.array(zt[zt.subjects == 'subjects'][zt.lol == 4][zt.Period == '{}'.format(u)].iloc[[n],[10]])[0][0]) - start2)))],[6]] = int(np.array(zt[zt.subjects == 'subjects'][zt.lol == 4][zt.Period == '{}'.format(u)].iloc[[n],[50]])[0][0])\n",
    "    \n",
    "    data.iloc[[j for j in range (int(start_contrib + 50*(float(np.array(zt[zt.subjects == 'subjects'][zt.lol == 4][zt.Period == '{}'.format(u)].iloc[[n],[9]])[0][0]) - start2)), int(start_contrib + 50*(float(np.array(zt[zt.subjects == 'subjects'][zt.lol == 4][zt.Period == '{}'.format(u)].iloc[[n],[10]])[0][0]) - start2)))],[8]] = int(np.array(zt[zt.subjects == 'subjects'][zt.lol == 4][zt.Period == '{}'.format(u)].iloc[[n],[48]])[0][0])\n",
    "\n",
    "    data.iloc[[j for j in range (int(start_contrib + 50*(float(np.array(zt[zt.subjects == 'subjects'][zt.lol == 4][zt.Period == '{}'.format(u)].iloc[[n],[9]])[0][0]) - start2)), int(start_contrib + 50*(float(np.array(zt[zt.subjects == 'subjects'][zt.lol == 4][zt.Period == '{}'.format(u)].iloc[[n],[10]])[0][0]) - start2)))],[9]] = float(np.array(zt[zt.subjects == 'subjects'][zt.lol == 4][zt.Period == '{}'.format(u)].iloc[[n],[29]])[0][0])\n",
    "    \n",
    "    data.iloc[[j for j in range (int(start_contrib + 50*(float(np.array(zt[zt.subjects == 'subjects'][zt.lol == 4][zt.Period == '{}'.format(u)].iloc[[n],[9]])[0][0]) - start2)), int(start_contrib + 50*(float(np.array(zt[zt.subjects == 'subjects'][zt.lol == 4][zt.Period == '{}'.format(u)].iloc[[n],[10]])[0][0]) - start2)))],[9]] += float(np.array(zt[zt.subjects == 'subjects'][zt.lol == 4][zt.Period == '{}'.format(u)].iloc[[n],[32]])[0][0])\n",
    "\n",
    "\n",
    "\n",
    "    if float(np.array(zt[zt.subjects == 'subjects'][zt.lol == 3][zt.Period == '{}'.format(u)].iloc[[u],[12]])[0][0]) == 0:\n",
    "        data.iloc[[j for j in range (int(start_contrib + 50*(float(np.array(zt[zt.subjects == 'subjects'][zt.lol == 4][zt.Period == '{}'.format(u)].iloc[[n],[11]])[0][0]) - start2)), int(start_contrib + 50*(float(np.array(zt[zt.subjects == 'subjects'][zt.lol == 4][zt.Period == '{}'.format(u)].iloc[[n],[11]])[0][0]) + 12 - start2)))],[4]] = 'Contrib per{} res'.format(u-1)\n",
    "        data.iloc[[j for j in range (int(start_contrib + 50*(float(np.array(zt[zt.subjects == 'subjects'][zt.lol == 4][zt.Period == '{}'.format(u)].iloc[[n],[11]])[0][0]) - start2)), int(start_contrib + 50*(float(np.array(zt[zt.subjects == 'subjects'][zt.lol == 4][zt.Period == '{}'.format(u)].iloc[[n],[11]])[0][0]) + 12 - start2)))],[5]] = int(np.array(zt[zt.subjects == 'subjects'][zt.lol == 4][zt.Period == '{}'.format(u-1)].iloc[[n],[5]])[0][0])\n",
    "        data.iloc[[j for j in range (int(start_contrib + 50*(float(np.array(zt[zt.subjects == 'subjects'][zt.lol == 4][zt.Period == '{}'.format(u)].iloc[[n],[11]])[0][0]) - start2)), int(start_contrib + 50*(float(np.array(zt[zt.subjects == 'subjects'][zt.lol == 4][zt.Period == '{}'.format(u)].iloc[[n],[11]])[0][0]) + 12 - start2)))],[6]] = int(np.array(zt[zt.subjects == 'subjects'][zt.lol == 4][zt.Period == '{}'.format(u-1)].iloc[[n],[50]])[0][0])\n",
    "        data.iloc[[j for j in range (int(start_contrib + 50*(float(np.array(zt[zt.subjects == 'subjects'][zt.lol == 4][zt.Period == '{}'.format(u)].iloc[[n],[11]])[0][0]) - start2)), int(start_contrib + 50*(float(np.array(zt[zt.subjects == 'subjects'][zt.lol == 4][zt.Period == '{}'.format(u)].iloc[[n],[11]])[0][0]) + 12 - start2)))],[8]] = int(np.array(zt[zt.subjects == 'subjects'][zt.lol == 4][zt.Period == '{}'.format(u-1)].iloc[[n],[48]])[0][0])\n",
    "        data.iloc[[j for j in range (int(start_contrib + 50*(float(np.array(zt[zt.subjects == 'subjects'][zt.lol == 4][zt.Period == '{}'.format(u)].iloc[[n],[11]])[0][0]) - start2)), int(start_contrib + 50*(float(np.array(zt[zt.subjects == 'subjects'][zt.lol == 4][zt.Period == '{}'.format(u)].iloc[[n],[11]])[0][0]) + 12 - start2)))],[9]] = float(np.array(zt[zt.subjects == 'subjects'][zt.lol == 4][zt.Period == '{}'.format(u-1)].iloc[[n],[29]])[0][0])\n",
    "        data.iloc[[j for j in range (int(start_contrib + 50*(float(np.array(zt[zt.subjects == 'subjects'][zt.lol == 4][zt.Period == '{}'.format(u)].iloc[[n],[11]])[0][0]) - start2)), int(start_contrib + 50*(float(np.array(zt[zt.subjects == 'subjects'][zt.lol == 4][zt.Period == '{}'.format(u)].iloc[[n],[11]])[0][0]) + 12 - start2)))],[9]] += float(np.array(zt[zt.subjects == 'subjects'][zt.lol == 4][zt.Period == '{}'.format(u-1)].iloc[[n],[32]])[0][0])\n",
    "        \n",
    "    else:    \n",
    "        data.iloc[[j for j in range (int(start_contrib + 50*(float(np.array(zt[zt.subjects == 'subjects'][zt.lol == 4][zt.Period == '{}'.format(u)].iloc[[n],[11]])[0][0]) - start2)), int(start_contrib + 50*(float(np.array(zt[zt.subjects == 'subjects'][zt.lol == 4][zt.Period == '{}'.format(u)].iloc[[n],[12]])[0][0]) - start2)))],[4]] = 'Contrib per{} res'.format(u-1)\n",
    "        data.iloc[[j for j in range (int(start_contrib + 50*(float(np.array(zt[zt.subjects == 'subjects'][zt.lol == 4][zt.Period == '{}'.format(u)].iloc[[n],[11]])[0][0]) - start2)), int(start_contrib + 50*(float(np.array(zt[zt.subjects == 'subjects'][zt.lol == 4][zt.Period == '{}'.format(u)].iloc[[n],[12]])[0][0]) - start2)))],[5]] = int(np.array(zt[zt.subjects == 'subjects'][zt.lol == 4][zt.Period == '{}'.format(u-1)].iloc[[n],[5]])[0][0])\n",
    "        data.iloc[[j for j in range (int(start_contrib + 50*(float(np.array(zt[zt.subjects == 'subjects'][zt.lol == 4][zt.Period == '{}'.format(u)].iloc[[n],[11]])[0][0]) - start2)), int(start_contrib + 50*(float(np.array(zt[zt.subjects == 'subjects'][zt.lol == 4][zt.Period == '{}'.format(u)].iloc[[n],[12]])[0][0]) - start2)))],[6]] = int(np.array(zt[zt.subjects == 'subjects'][zt.lol == 4][zt.Period == '{}'.format(u-1)].iloc[[n],[50]])[0][0])\n",
    "        data.iloc[[j for j in range (int(start_contrib + 50*(float(np.array(zt[zt.subjects == 'subjects'][zt.lol == 4][zt.Period == '{}'.format(u)].iloc[[n],[11]])[0][0]) - start2)), int(start_contrib + 50*(float(np.array(zt[zt.subjects == 'subjects'][zt.lol == 4][zt.Period == '{}'.format(u)].iloc[[n],[12]])[0][0]) - start2)))],[8]] = int(np.array(zt[zt.subjects == 'subjects'][zt.lol == 4][zt.Period == '{}'.format(u-1)].iloc[[n],[48]])[0][0])\n",
    "        data.iloc[[j for j in range (int(start_contrib + 50*(float(np.array(zt[zt.subjects == 'subjects'][zt.lol == 4][zt.Period == '{}'.format(u)].iloc[[n],[11]])[0][0]) - start2)), int(start_contrib + 50*(float(np.array(zt[zt.subjects == 'subjects'][zt.lol == 4][zt.Period == '{}'.format(u)].iloc[[n],[12]])[0][0]) - start2)))],[9]] = float(np.array(zt[zt.subjects == 'subjects'][zt.lol == 4][zt.Period == '{}'.format(u-1)].iloc[[n],[29]])[0][0])\n",
    "        data.iloc[[j for j in range (int(start_contrib + 50*(float(np.array(zt[zt.subjects == 'subjects'][zt.lol == 4][zt.Period == '{}'.format(u)].iloc[[n],[11]])[0][0]) - start2)), int(start_contrib + 50*(float(np.array(zt[zt.subjects == 'subjects'][zt.lol == 4][zt.Period == '{}'.format(u)].iloc[[n],[12]])[0][0]) - start2)))],[9]] += float(np.array(zt[zt.subjects == 'subjects'][zt.lol == 4][zt.Period == '{}'.format(u-1)].iloc[[n],[32]])[0][0])"
   ]
  },
  {
   "cell_type": "code",
   "execution_count": 317,
   "metadata": {
    "collapsed": false
   },
   "outputs": [
    {
     "data": {
      "text/plain": [
       "10"
      ]
     },
     "execution_count": 317,
     "metadata": {},
     "output_type": "execute_result"
    }
   ],
   "source": [
    "u"
   ]
  },
  {
   "cell_type": "code",
   "execution_count": 320,
   "metadata": {
    "collapsed": false
   },
   "outputs": [],
   "source": [
    "\n",
    "data.to_excel('test.xlsx')"
   ]
  },
  {
   "cell_type": "code",
   "execution_count": 241,
   "metadata": {
    "collapsed": false
   },
   "outputs": [
    {
     "data": {
      "text/plain": [
       "4782.0"
      ]
     },
     "execution_count": 241,
     "metadata": {},
     "output_type": "execute_result"
    }
   ],
   "source": [
    "start_extract"
   ]
  },
  {
   "cell_type": "code",
   "execution_count": 323,
   "metadata": {
    "collapsed": false
   },
   "outputs": [
    {
     "data": {
      "text/html": [
       "<div>\n",
       "<table border=\"1\" class=\"dataframe\">\n",
       "  <thead>\n",
       "    <tr style=\"text-align: right;\">\n",
       "      <th></th>\n",
       "      <th>time</th>\n",
       "      <th>X</th>\n",
       "      <th>Y</th>\n",
       "      <th>Z</th>\n",
       "      <th>stad</th>\n",
       "      <th>Profit</th>\n",
       "      <th>TP</th>\n",
       "      <th>LP</th>\n",
       "      <th>Sum</th>\n",
       "      <th>TH</th>\n",
       "    </tr>\n",
       "  </thead>\n",
       "  <tbody>\n",
       "    <tr>\n",
       "      <th>1700</th>\n",
       "      <td>00:34.0</td>\n",
       "      <td>21.851562</td>\n",
       "      <td>-124.664062</td>\n",
       "      <td>-68.648956</td>\n",
       "      <td>0</td>\n",
       "      <td>ГЗ</td>\n",
       "      <td>0</td>\n",
       "      <td>0</td>\n",
       "      <td>0</td>\n",
       "      <td>0</td>\n",
       "    </tr>\n",
       "    <tr>\n",
       "      <th>1701</th>\n",
       "      <td>00:34.2</td>\n",
       "      <td>21.804688</td>\n",
       "      <td>-124.671875</td>\n",
       "      <td>-68.644287</td>\n",
       "      <td>0</td>\n",
       "      <td>ГЗ</td>\n",
       "      <td>0</td>\n",
       "      <td>0</td>\n",
       "      <td>0</td>\n",
       "      <td>0</td>\n",
       "    </tr>\n",
       "    <tr>\n",
       "      <th>1702</th>\n",
       "      <td>00:34.4</td>\n",
       "      <td>21.757812</td>\n",
       "      <td>-124.640625</td>\n",
       "      <td>-68.667908</td>\n",
       "      <td>0</td>\n",
       "      <td>ГЗ</td>\n",
       "      <td>0</td>\n",
       "      <td>0</td>\n",
       "      <td>0</td>\n",
       "      <td>0</td>\n",
       "    </tr>\n",
       "  </tbody>\n",
       "</table>\n",
       "</div>"
      ],
      "text/plain": [
       "         time          X           Y          Z stad Profit TP LP Sum TH\n",
       "1700  00:34.0  21.851562 -124.664062 -68.648956    0     ГЗ  0  0   0  0\n",
       "1701  00:34.2  21.804688 -124.671875 -68.644287    0     ГЗ  0  0   0  0\n",
       "1702  00:34.4  21.757812 -124.640625 -68.667908    0     ГЗ  0  0   0  0"
      ]
     },
     "execution_count": 323,
     "metadata": {},
     "output_type": "execute_result"
    }
   ],
   "source": [
    "data[1700:1703]"
   ]
  },
  {
   "cell_type": "code",
   "execution_count": 6,
   "metadata": {
    "collapsed": false
   },
   "outputs": [],
   "source": [
    "for u in range(len(marker['tic-tot'])-1):\n",
    "    data.iloc[[j for j in range (np.array(marker['tic-tot'].astype(int))[u],np.array(marker['tic-tot'].astype(int))[u+1])],[4]] = 'Marker {}'.format(u+1)\n",
    "    "
   ]
  },
  {
   "cell_type": "code",
   "execution_count": 16,
   "metadata": {
    "collapsed": true
   },
   "outputs": [],
   "source": [
    "for u in range(2,22,2):\n",
    "    data.iloc[[j for j in range (np.array(marker['tic-tot'].astype(int))[u],np.array(marker['tic-tot'].astype(int))[u+1])],[5]] = 'Extract per{} start'.format(int((u-1)/2.)+1)"
   ]
  },
  {
   "cell_type": "code",
   "execution_count": 17,
   "metadata": {
    "collapsed": true
   },
   "outputs": [],
   "source": [
    "for u in range(3,22,2):\n",
    "    data.iloc[[j for j in range (np.array(marker['tic-tot'].astype(int))[u],np.array(marker['tic-tot'].astype(int))[u+1])],[5]] = 'Extract per{} res'.format(int((u-1)/2.))"
   ]
  },
  {
   "cell_type": "code",
   "execution_count": 18,
   "metadata": {
    "collapsed": true
   },
   "outputs": [],
   "source": [
    "for u in range(22,41,2):\n",
    "    data.iloc[[j for j in range (np.array(marker['tic-tot'].astype(int))[u],np.array(marker['tic-tot'].astype(int))[u+1])],[5]] = 'Contrib per{} start'.format(int((u-1)/2.)-9)"
   ]
  },
  {
   "cell_type": "code",
   "execution_count": 19,
   "metadata": {
    "collapsed": false
   },
   "outputs": [],
   "source": [
    "for u in range(23,41,2):\n",
    "    data.iloc[[j for j in range (np.array(marker['tic-tot'].astype(int))[u],np.array(marker['tic-tot'].astype(int))[u+1])],[5]] = 'Contrib per{} res'.format(int((u-1)/2.)-9)"
   ]
  },
  {
   "cell_type": "code",
   "execution_count": 321,
   "metadata": {
    "collapsed": true
   },
   "outputs": [],
   "source": [
    "\n",
    "data.iloc[[j for j in range (0,np.array(marker['tic-tot'].astype(int))[0])],[5]] = u'ГО'\n",
    "data.iloc[[j for j in range (np.array(marker['tic-tot'].astype(int))[0],np.array(marker['tic-tot'].astype(int))[1])],[5]] = u'ГЗ'"
   ]
  },
  {
   "cell_type": "code",
   "execution_count": 11,
   "metadata": {
    "collapsed": true
   },
   "outputs": [],
   "source": [
    "data.iloc[[j for j in range (np.array(marker['tic-tot'].astype(int))[41],np.array(marker['tic-tot'].astype(int))[42])],[5]] = 'Contrib end'\n",
    "data.iloc[[j for j in range (np.array(marker['tic-tot'].astype(int))[42],np.array(marker['tic-tot'].astype(int))[43])],[5]] = 'ГО'\n",
    "\n",
    "data.iloc[[j for j in range (np.array(marker['tic-tot'].astype(int))[43],np.array(marker['tic-tot'].astype(int))[44])],[5]] = 'ГЗ'\n",
    "\n"
   ]
  },
  {
   "cell_type": "code",
   "execution_count": 24,
   "metadata": {
    "collapsed": true
   },
   "outputs": [],
   "source": [
    "data['Profit'] = '0'\n",
    "for u in range(2,21):\n",
    "    data.iloc[[j for j in range (np.array(marker['tic-tot'].astype(int))[u],np.array(marker['tic-tot'].astype(int))[u+1])],[6]] = np.array(info.iloc[[12*(int((u)/2.)-1)],[2]])[0][0]\n",
    "\n",
    "for u in range(21,41):\n",
    "    data.iloc[[j for j in range (np.array(marker['tic-tot'].astype(int))[u],np.array(marker['tic-tot'].astype(int))[u+1])],[6]] = np.array(info2.iloc[[12*(int((u+1)/2.)-11)],[2]])[0][0]\n"
   ]
  },
  {
   "cell_type": "code",
   "execution_count": 21,
   "metadata": {
    "collapsed": false
   },
   "outputs": [
    {
     "data": {
      "text/html": [
       "<div>\n",
       "<table border=\"1\" class=\"dataframe\">\n",
       "  <thead>\n",
       "    <tr style=\"text-align: right;\">\n",
       "      <th></th>\n",
       "      <th>Profit</th>\n",
       "    </tr>\n",
       "    <tr>\n",
       "      <th>Period</th>\n",
       "      <th></th>\n",
       "    </tr>\n",
       "  </thead>\n",
       "  <tbody>\n",
       "    <tr>\n",
       "      <th>1</th>\n",
       "      <td>1</td>\n",
       "    </tr>\n",
       "  </tbody>\n",
       "</table>\n",
       "</div>"
      ],
      "text/plain": [
       "        Profit\n",
       "Period        \n",
       "1            1"
      ]
     },
     "execution_count": 21,
     "metadata": {},
     "output_type": "execute_result"
    }
   ],
   "source": [
    "info2.iloc[[12*(int((22)/2.)-11)],[2]]"
   ]
  },
  {
   "cell_type": "code",
   "execution_count": 22,
   "metadata": {
    "collapsed": false,
    "scrolled": true
   },
   "outputs": [
    {
     "data": {
      "text/html": [
       "<div>\n",
       "<table border=\"1\" class=\"dataframe\">\n",
       "  <thead>\n",
       "    <tr style=\"text-align: right;\">\n",
       "      <th></th>\n",
       "      <th>time</th>\n",
       "      <th>X</th>\n",
       "      <th>Y</th>\n",
       "      <th>Z</th>\n",
       "      <th>marker</th>\n",
       "      <th>stad</th>\n",
       "    </tr>\n",
       "  </thead>\n",
       "  <tbody>\n",
       "    <tr>\n",
       "      <th>21129</th>\n",
       "      <td>07:02.58</td>\n",
       "      <td>8.109375</td>\n",
       "      <td>21.867188</td>\n",
       "      <td>-64.299835</td>\n",
       "      <td>Marker 22</td>\n",
       "      <td>Extract per10 res</td>\n",
       "    </tr>\n",
       "    <tr>\n",
       "      <th>21130</th>\n",
       "      <td>07:02.60</td>\n",
       "      <td>8.078125</td>\n",
       "      <td>21.921875</td>\n",
       "      <td>-64.285767</td>\n",
       "      <td>Marker 23</td>\n",
       "      <td>Contrib per1 start</td>\n",
       "    </tr>\n",
       "    <tr>\n",
       "      <th>21131</th>\n",
       "      <td>07:02.62</td>\n",
       "      <td>8.046875</td>\n",
       "      <td>21.976562</td>\n",
       "      <td>-64.262634</td>\n",
       "      <td>Marker 23</td>\n",
       "      <td>Contrib per1 start</td>\n",
       "    </tr>\n",
       "    <tr>\n",
       "      <th>21132</th>\n",
       "      <td>07:02.64</td>\n",
       "      <td>8.070312</td>\n",
       "      <td>22.023438</td>\n",
       "      <td>-64.239319</td>\n",
       "      <td>Marker 23</td>\n",
       "      <td>Contrib per1 start</td>\n",
       "    </tr>\n",
       "    <tr>\n",
       "      <th>21133</th>\n",
       "      <td>07:02.66</td>\n",
       "      <td>8.101562</td>\n",
       "      <td>22.070312</td>\n",
       "      <td>-64.239075</td>\n",
       "      <td>Marker 23</td>\n",
       "      <td>Contrib per1 start</td>\n",
       "    </tr>\n",
       "  </tbody>\n",
       "</table>\n",
       "</div>"
      ],
      "text/plain": [
       "           time         X          Y          Z     marker                stad\n",
       "21129  07:02.58  8.109375  21.867188 -64.299835  Marker 22   Extract per10 res\n",
       "21130  07:02.60  8.078125  21.921875 -64.285767  Marker 23  Contrib per1 start\n",
       "21131  07:02.62  8.046875  21.976562 -64.262634  Marker 23  Contrib per1 start\n",
       "21132  07:02.64  8.070312  22.023438 -64.239319  Marker 23  Contrib per1 start\n",
       "21133  07:02.66  8.101562  22.070312 -64.239075  Marker 23  Contrib per1 start"
      ]
     },
     "execution_count": 22,
     "metadata": {},
     "output_type": "execute_result"
    }
   ],
   "source": [
    "data[21129:21134]"
   ]
  },
  {
   "cell_type": "code",
   "execution_count": null,
   "metadata": {
    "collapsed": true
   },
   "outputs": [],
   "source": [
    "data['Profit'] = '0'\n",
    "data['TotalProfit'] = '0'"
   ]
  },
  {
   "cell_type": "code",
   "execution_count": null,
   "metadata": {
    "collapsed": false
   },
   "outputs": [],
   "source": [
    "info = pd.read_excel('160318_SO1-2.xlsx',sheetname=u'160318_О1', index_col=0)"
   ]
  },
  {
   "cell_type": "code",
   "execution_count": null,
   "metadata": {
    "collapsed": false
   },
   "outputs": [],
   "source": [
    "for u in range(2,21):\n",
    "    data.iloc[[j for j in range (np.array(marker['tic-tot'].astype(int))[u],np.array(marker['tic-tot'].astype(int))[u+1])],[6]] = np.array(info.iloc[[12*(int((u)/2.)-1)],[2]])[0][0]"
   ]
  },
  {
   "cell_type": "code",
   "execution_count": null,
   "metadata": {
    "collapsed": false
   },
   "outputs": [],
   "source": [
    "int(4/2.)"
   ]
  },
  {
   "cell_type": "code",
   "execution_count": null,
   "metadata": {
    "collapsed": false
   },
   "outputs": [],
   "source": [
    "np.array(info.iloc[[12*(int((u)/2.)-1)],[2]])[0][0]"
   ]
  },
  {
   "cell_type": "code",
   "execution_count": null,
   "metadata": {
    "collapsed": false
   },
   "outputs": [],
   "source": [
    "[j for j in range (0,np.array(marker['tic-tot'].astype(int))[0])]"
   ]
  },
  {
   "cell_type": "code",
   "execution_count": null,
   "metadata": {
    "collapsed": false
   },
   "outputs": [],
   "source": [
    "df = data[['X','Y','Z']].rolling( window=3, min_periods=1,center=True).mean().diff()\n",
    "df = df[np.isfinite(df['X'])]\n",
    "df = df**2\n",
    "df = np.array(df.sum(axis = 1))\n",
    "df"
   ]
  },
  {
   "cell_type": "code",
   "execution_count": null,
   "metadata": {
    "collapsed": true
   },
   "outputs": [],
   "source": []
  },
  {
   "cell_type": "code",
   "execution_count": null,
   "metadata": {
    "collapsed": false
   },
   "outputs": [],
   "source": [
    "df = data[['X','Y','Z']].rolling( window=3, min_periods=1,center=True).mean().diff()\n",
    "df = df[np.isfinite(df['X'])]\n",
    "df = df**2\n",
    "df = np.array(df.sum(axis = 1))\n",
    "ndf = [df[i:i+1500] for i in range(0, len(df), 1500)]\n",
    "\n",
    "mean = [j.mean() for j in ndf]\n",
    "std = [j.std() for j in ndf]\n",
    "energy = (np.array(mean)**2+np.array(std))**(1./2)\n",
    "hurstl = [pyeeg.hurst(j) for j in ndf]"
   ]
  },
  {
   "cell_type": "code",
   "execution_count": null,
   "metadata": {
    "collapsed": true
   },
   "outputs": [],
   "source": [
    "import numpy as np\n",
    "\n",
    "def rle(inarray):\n",
    "        \"\"\" run length encoding. Partial credit to R rle function. \n",
    "            Multi datatype arrays catered for including non Numpy\n",
    "            returns: tuple (runlengths, startpositions, values) \"\"\"\n",
    "        ia = np.array(inarray)                  # force numpy\n",
    "        n = len(ia)\n",
    "        if n == 0: \n",
    "            return (None, None, None)\n",
    "        else:\n",
    "            y = np.array(ia[1:] != ia[:-1])     # pairwise unequal (string safe)\n",
    "            i = np.append(np.where(y), n - 1)   # must include last element posi\n",
    "            z = np.diff(np.append(-1, i))       # run lengths\n",
    "            p = np.cumsum(np.append(0, z))[:-1] # positions\n",
    "            return(z, p, ia[i])"
   ]
  },
  {
   "cell_type": "code",
   "execution_count": null,
   "metadata": {
    "collapsed": false
   },
   "outputs": [],
   "source": [
    "de = data[['X','Y','Z']].rolling( window=3, min_periods=1,center=True).mean().diff()\n",
    "de = de[np.isfinite(de['X'])]\n",
    "nde = [np.array(de)[i:i+1500] for i in range(0, len(df), 1500)]\n",
    "\n",
    "amax = [np.amax(j,axis = 0) for j in nde]\n",
    "amin = [np.amin(j,axis = 0) for j in nde]\n",
    "delta = (np.array(amax) - np.array(amin))/40\n",
    "nde = [(nde[j] - amin[j])//delta[j]+1 for j in range(len(amin))]\n",
    "t = [j[:,0]*1000000+j[:,1]*1000+j[:,2] for j in nde]\n",
    "entropy = [-sum((rle(np.sort(i))[0]/1500.)*np.log2(rle(np.sort(i))[0]/1500.)) for i in t]"
   ]
  },
  {
   "cell_type": "code",
   "execution_count": null,
   "metadata": {
    "collapsed": false
   },
   "outputs": [],
   "source": [
    "pd.DataFrame(energy,columns=['lol']).T.to_excel('lol.xlsx',startrow  = 3, startcol = 2, header = False)"
   ]
  },
  {
   "cell_type": "code",
   "execution_count": null,
   "metadata": {
    "collapsed": true
   },
   "outputs": [],
   "source": []
  },
  {
   "cell_type": "code",
   "execution_count": null,
   "metadata": {
    "collapsed": false
   },
   "outputs": [],
   "source": [
    "energy"
   ]
  },
  {
   "cell_type": "code",
   "execution_count": null,
   "metadata": {
    "collapsed": true
   },
   "outputs": [],
   "source": []
  },
  {
   "cell_type": "code",
   "execution_count": null,
   "metadata": {
    "collapsed": true
   },
   "outputs": [],
   "source": []
  },
  {
   "cell_type": "code",
   "execution_count": null,
   "metadata": {
    "collapsed": true
   },
   "outputs": [],
   "source": []
  },
  {
   "cell_type": "code",
   "execution_count": null,
   "metadata": {
    "collapsed": true
   },
   "outputs": [],
   "source": []
  },
  {
   "cell_type": "code",
   "execution_count": null,
   "metadata": {
    "collapsed": true
   },
   "outputs": [],
   "source": []
  },
  {
   "cell_type": "code",
   "execution_count": null,
   "metadata": {
    "collapsed": false
   },
   "outputs": [],
   "source": [
    "info1 = pd.read_excel('2016-03-11_Collective_action/160311_SO1-2.xlsx',sheetname=u'О2')"
   ]
  },
  {
   "cell_type": "code",
   "execution_count": null,
   "metadata": {
    "collapsed": false
   },
   "outputs": [],
   "source": [
    "info2 = pd.read_excel('2016-03-11_Collective_action/160311_SO1-2.xlsx',sheetname=u'Г2')"
   ]
  },
  {
   "cell_type": "code",
   "execution_count": null,
   "metadata": {
    "collapsed": false
   },
   "outputs": [],
   "source": [
    "info = pd.concat([info1,info2],join = 'inner',ignore_index=True)"
   ]
  },
  {
   "cell_type": "code",
   "execution_count": null,
   "metadata": {
    "collapsed": false
   },
   "outputs": [],
   "source": [
    "info1.tail()"
   ]
  },
  {
   "cell_type": "code",
   "execution_count": null,
   "metadata": {
    "collapsed": false
   },
   "outputs": [],
   "source": [
    "info2.head()"
   ]
  },
  {
   "cell_type": "code",
   "execution_count": null,
   "metadata": {
    "collapsed": true
   },
   "outputs": [],
   "source": []
  }
 ],
 "metadata": {
  "kernelspec": {
   "display_name": "Python 2",
   "language": "python",
   "name": "python2"
  },
  "language_info": {
   "codemirror_mode": {
    "name": "ipython",
    "version": 2
   },
   "file_extension": ".py",
   "mimetype": "text/x-python",
   "name": "python",
   "nbconvert_exporter": "python",
   "pygments_lexer": "ipython2",
   "version": "2.7.11"
  }
 },
 "nbformat": 4,
 "nbformat_minor": 0
}
