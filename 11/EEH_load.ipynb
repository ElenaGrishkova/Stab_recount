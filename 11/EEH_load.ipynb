{
 "cells": [
  {
   "cell_type": "code",
   "execution_count": 3,
   "metadata": {
    "collapsed": false
   },
   "outputs": [],
   "source": [
    "import pandas as pd\n",
    "import numpy as np\n",
    "import pyeeg\n",
    "from numpy.random import randn\n",
    "from pandas import ExcelWriter\n",
    "from openpyxl import Workbook\n",
    "\n",
    "def rle(inarray):\n",
    "        \"\"\" run length encoding. Partial credit to R rle function. \n",
    "            Multi datatype arrays catered for including non Numpy\n",
    "            returns: tuple (runlengths, startpositions, values) \"\"\"\n",
    "        ia = np.array(inarray)                  # force numpy\n",
    "        n = len(ia)\n",
    "        if n == 0: \n",
    "            return (None, None, None)\n",
    "        else:\n",
    "            y = np.array(ia[1:] != ia[:-1])     # pairwise unequal (string safe)\n",
    "            i = np.append(np.where(y), n - 1)   # must include last element posi\n",
    "            z = np.diff(np.append(-1, i))       # run lengths\n",
    "            p = np.cumsum(np.append(0, z))[:-1] # positions\n",
    "            return(z, p, ia[i])\n",
    "\n",
    "names1 = [u'Омельченко Сергей',\n",
    "u'Захаренков Антон',\n",
    "u'Ерин Федор',\n",
    "u'Гайнцева Татьяна',\n",
    "u'Антонова Нина']\n",
    "names2 = [u'Едигарьев Иван',\n",
    "u'Дробот Олег',\n",
    "u'Брицын Евгений',\n",
    "u'Жибоедова Анастасия',\n",
    "u'Архипов Ярослав']\n",
    "#folder = '2016-03-11_Collective_action'\n",
    "state = 'Before_Soc'\n",
    "label = 1\n",
    "wb = Workbook()\n",
    "wb.save(filename = '{}_EEH.xlsx'.format(state))\n",
    "for line in [1,2]:\n",
    "    for n in range(5):\n",
    "        x = pd.read_csv('{}/{}/000{}_X'.format(state,line,2*n), skiprows=10, sep=')', names = ['time','X'],index_col = False)\n",
    "        y = pd.read_csv('{}/{}/000{}_Y'.format(state,line,2*n), skiprows=10, sep=')', names = ['time','Y'],index_col = False)\n",
    "        z = pd.read_csv('{}/{}/000{}_PZ'.format(state,line,2*n+1), skiprows=10, sep=')',names = ['time','Z'],index_col = False)\n",
    "\n",
    "\n",
    "        data = x.merge(y).merge(z)\n",
    "        \n",
    "        marker = pd.read_excel('{}/1/Markers_1-11.xlsx'.format(state))\n",
    "        marker = marker[np.isfinite(marker['sec'])]\n",
    "        data = data.iloc[:int(marker['tic-tot'].iloc[[-1]])+5000]\n",
    "        \n",
    "        df = data[['X','Y','Z']].rolling( window=3, min_periods=1,center=True).mean().diff()\n",
    "        df = df[np.isfinite(df['X'])]\n",
    "        df = df**2\n",
    "        df = np.array(df.sum(axis = 1))\n",
    "        ndf = [df[i:i+1500] for i in range(0, len(df), 1500)]\n",
    "\n",
    "        mean = [j.mean() for j in ndf]\n",
    "        std = [j.std() for j in ndf]\n",
    "        energy = (np.array(mean)**2+np.array(std))**(1./2)\n",
    "        hurstl = [pyeeg.hurst(j) for j in ndf]\n",
    "        \n",
    "        de = data[['X','Y','Z']].rolling( window=3, min_periods=1,center=True).mean().diff()\n",
    "        de = de[np.isfinite(de['X'])]\n",
    "        nde = [np.array(de)[i:i+1500] for i in range(0, len(df), 1500)]\n",
    "\n",
    "        amax = [np.amax(j,axis = 0) for j in nde]\n",
    "        amin = [np.amin(j,axis = 0) for j in nde]\n",
    "        delta = (np.array(amax) - np.array(amin))/40\n",
    "        nde = [(nde[j] - amin[j])//delta[j]+1 for j in range(len(amin))]\n",
    "        t = [j[:,0]*1000000+j[:,1]*1000+j[:,2] for j in nde]\n",
    "        entropy = [-sum((rle(np.sort(i))[0]/1500.)*np.log2(rle(np.sort(i))[0]/1500.)) for i in t]\n",
    "        \n",
    "        \n",
    "        \n",
    "        from openpyxl import load_workbook\n",
    "\n",
    "        book = load_workbook('{}_EEH.xlsx'.format(state))\n",
    "        writer = pd.ExcelWriter('{}_EEH.xlsx'.format(state), engine='openpyxl') \n",
    "        writer.book = book\n",
    "        writer.sheets = dict((ws.title, ws) for ws in book.worksheets)\n",
    "\n",
    "        if (line == 1) : \n",
    "            data1 = pd.DataFrame(energy, columns=[names1[n]]).T.to_excel(writer, sheet_name = u'Energy', startrow = (line-1)*5+n, startcol = 1,header = False)\n",
    "            data2 = pd.DataFrame(entropy, columns=[names1[n]]).T.to_excel(writer, sheet_name = u'Entropy', startrow = (line-1)*5+n, startcol = 1,header = False)\n",
    "            data3 = pd.DataFrame(hurstl, columns=[names1[n]]).T.to_excel(writer, sheet_name = u'Hurst', startrow = (line-1)*5+n, startcol = 1,header = False)\n",
    "        else:\n",
    "            data1 = pd.DataFrame(energy, columns=[names2[n]]).T.to_excel(writer, sheet_name = u'Energy', startrow = (line-1)*5+n, startcol = 1,header = False)\n",
    "            data2 = pd.DataFrame(entropy, columns=[names2[n]]).T.to_excel(writer, sheet_name = u'Entropy', startrow = (line-1)*5+n, startcol = 1,header = False)\n",
    "            data3 = pd.DataFrame(hurstl, columns=[names2[n]]).T.to_excel(writer, sheet_name = u'Hurst', startrow = (line-1)*5+n, startcol = 1,header = False)\n",
    "        \n",
    "        writer.save()"
   ]
  },
  {
   "cell_type": "code",
   "execution_count": 4,
   "metadata": {
    "collapsed": true
   },
   "outputs": [],
   "source": [
    "data2"
   ]
  },
  {
   "cell_type": "code",
   "execution_count": 3,
   "metadata": {
    "collapsed": false
   },
   "outputs": [
    {
     "data": {
      "text/plain": [
       "(36,)"
      ]
     },
     "execution_count": 3,
     "metadata": {},
     "output_type": "execute_result"
    }
   ],
   "source": [
    "energy.shape"
   ]
  },
  {
   "cell_type": "code",
   "execution_count": null,
   "metadata": {
    "collapsed": true
   },
   "outputs": [],
   "source": [
    ""
   ]
  }
 ],
 "metadata": {
  "kernelspec": {
   "display_name": "Python 2",
   "language": "python",
   "name": "python2"
  },
  "language_info": {
   "codemirror_mode": {
    "name": "ipython",
    "version": 2.0
   },
   "file_extension": ".py",
   "mimetype": "text/x-python",
   "name": "python",
   "nbconvert_exporter": "python",
   "pygments_lexer": "ipython2",
   "version": "2.7.11"
  }
 },
 "nbformat": 4,
 "nbformat_minor": 0
}