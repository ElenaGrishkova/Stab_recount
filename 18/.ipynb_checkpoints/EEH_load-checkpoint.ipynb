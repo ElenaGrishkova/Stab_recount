{
 "cells": [
  {
   "cell_type": "code",
   "execution_count": 1,
   "metadata": {
    "collapsed": false
   },
   "outputs": [
    {
     "name": "stderr",
     "output_type": "stream",
     "text": [
      "/Users/antonzaharenkov/Documents/anaconda/lib/python2.7/site-packages/pandas/computation/__init__.py:19: UserWarning: The installed version of numexpr 2.4.4 is not supported in pandas and will be not be used\n",
      "\n",
      "  UserWarning)\n"
     ]
    },
    {
     "ename": "KeyboardInterrupt",
     "evalue": "",
     "output_type": "error",
     "traceback": [
      "\u001b[0;31m---------------------------------------------------------------------------\u001b[0m",
      "\u001b[0;31mKeyboardInterrupt\u001b[0m                         Traceback (most recent call last)",
      "\u001b[0;32m<ipython-input-1-4c0b0e0e3e50>\u001b[0m in \u001b[0;36m<module>\u001b[0;34m()\u001b[0m\n\u001b[1;32m     53\u001b[0m         \u001b[0mstd\u001b[0m \u001b[0;34m=\u001b[0m \u001b[0;34m[\u001b[0m\u001b[0mj\u001b[0m\u001b[0;34m.\u001b[0m\u001b[0mstd\u001b[0m\u001b[0;34m(\u001b[0m\u001b[0;34m)\u001b[0m \u001b[0;32mfor\u001b[0m \u001b[0mj\u001b[0m \u001b[0;32min\u001b[0m \u001b[0mndf\u001b[0m\u001b[0;34m]\u001b[0m\u001b[0;34m\u001b[0m\u001b[0m\n\u001b[1;32m     54\u001b[0m         \u001b[0menergy\u001b[0m \u001b[0;34m=\u001b[0m \u001b[0;34m(\u001b[0m\u001b[0mnp\u001b[0m\u001b[0;34m.\u001b[0m\u001b[0marray\u001b[0m\u001b[0;34m(\u001b[0m\u001b[0mmean\u001b[0m\u001b[0;34m)\u001b[0m\u001b[0;34m**\u001b[0m\u001b[0;36m2\u001b[0m\u001b[0;34m+\u001b[0m\u001b[0mnp\u001b[0m\u001b[0;34m.\u001b[0m\u001b[0marray\u001b[0m\u001b[0;34m(\u001b[0m\u001b[0mstd\u001b[0m\u001b[0;34m)\u001b[0m\u001b[0;34m)\u001b[0m\u001b[0;34m**\u001b[0m\u001b[0;34m(\u001b[0m\u001b[0;36m1.\u001b[0m\u001b[0;34m/\u001b[0m\u001b[0;36m2\u001b[0m\u001b[0;34m)\u001b[0m\u001b[0;34m\u001b[0m\u001b[0m\n\u001b[0;32m---> 55\u001b[0;31m         \u001b[0mhurstl\u001b[0m \u001b[0;34m=\u001b[0m \u001b[0;34m[\u001b[0m\u001b[0mpyeeg\u001b[0m\u001b[0;34m.\u001b[0m\u001b[0mhurst\u001b[0m\u001b[0;34m(\u001b[0m\u001b[0mj\u001b[0m\u001b[0;34m)\u001b[0m \u001b[0;32mfor\u001b[0m \u001b[0mj\u001b[0m \u001b[0;32min\u001b[0m \u001b[0mndf\u001b[0m\u001b[0;34m]\u001b[0m\u001b[0;34m\u001b[0m\u001b[0m\n\u001b[0m\u001b[1;32m     56\u001b[0m \u001b[0;34m\u001b[0m\u001b[0m\n\u001b[1;32m     57\u001b[0m         \u001b[0mde\u001b[0m \u001b[0;34m=\u001b[0m \u001b[0mdata\u001b[0m\u001b[0;34m[\u001b[0m\u001b[0;34m[\u001b[0m\u001b[0;34m'X'\u001b[0m\u001b[0;34m,\u001b[0m\u001b[0;34m'Y'\u001b[0m\u001b[0;34m,\u001b[0m\u001b[0;34m'Z'\u001b[0m\u001b[0;34m]\u001b[0m\u001b[0;34m]\u001b[0m\u001b[0;34m.\u001b[0m\u001b[0mrolling\u001b[0m\u001b[0;34m(\u001b[0m \u001b[0mwindow\u001b[0m\u001b[0;34m=\u001b[0m\u001b[0;36m3\u001b[0m\u001b[0;34m,\u001b[0m \u001b[0mmin_periods\u001b[0m\u001b[0;34m=\u001b[0m\u001b[0;36m1\u001b[0m\u001b[0;34m,\u001b[0m\u001b[0mcenter\u001b[0m\u001b[0;34m=\u001b[0m\u001b[0mTrue\u001b[0m\u001b[0;34m)\u001b[0m\u001b[0;34m.\u001b[0m\u001b[0mmean\u001b[0m\u001b[0;34m(\u001b[0m\u001b[0;34m)\u001b[0m\u001b[0;34m.\u001b[0m\u001b[0mdiff\u001b[0m\u001b[0;34m(\u001b[0m\u001b[0;34m)\u001b[0m\u001b[0;34m\u001b[0m\u001b[0m\n",
      "\u001b[0;32m/Users/antonzaharenkov/stab/pyeeg.pyc\u001b[0m in \u001b[0;36mhurst\u001b[0;34m(X)\u001b[0m\n\u001b[1;32m     81\u001b[0m                 \u001b[0mS_T\u001b[0m\u001b[0;34m[\u001b[0m\u001b[0mi\u001b[0m\u001b[0;34m]\u001b[0m \u001b[0;34m=\u001b[0m \u001b[0mstd\u001b[0m\u001b[0;34m(\u001b[0m\u001b[0mX\u001b[0m\u001b[0;34m[\u001b[0m\u001b[0;34m:\u001b[0m\u001b[0mi\u001b[0m\u001b[0;34m+\u001b[0m\u001b[0;36m1\u001b[0m\u001b[0;34m]\u001b[0m\u001b[0;34m)\u001b[0m\u001b[0;34m\u001b[0m\u001b[0m\n\u001b[1;32m     82\u001b[0m                 \u001b[0mX_T\u001b[0m \u001b[0;34m=\u001b[0m \u001b[0mY\u001b[0m \u001b[0;34m-\u001b[0m \u001b[0mT\u001b[0m \u001b[0;34m*\u001b[0m \u001b[0mAve_T\u001b[0m\u001b[0;34m[\u001b[0m\u001b[0mi\u001b[0m\u001b[0;34m]\u001b[0m\u001b[0;34m\u001b[0m\u001b[0m\n\u001b[0;32m---> 83\u001b[0;31m                 \u001b[0mR_T\u001b[0m\u001b[0;34m[\u001b[0m\u001b[0mi\u001b[0m\u001b[0;34m]\u001b[0m \u001b[0;34m=\u001b[0m \u001b[0mmax\u001b[0m\u001b[0;34m(\u001b[0m\u001b[0mX_T\u001b[0m\u001b[0;34m[\u001b[0m\u001b[0;34m:\u001b[0m\u001b[0mi\u001b[0m \u001b[0;34m+\u001b[0m \u001b[0;36m1\u001b[0m\u001b[0;34m]\u001b[0m\u001b[0;34m)\u001b[0m \u001b[0;34m-\u001b[0m \u001b[0mmin\u001b[0m\u001b[0;34m(\u001b[0m\u001b[0mX_T\u001b[0m\u001b[0;34m[\u001b[0m\u001b[0;34m:\u001b[0m\u001b[0mi\u001b[0m \u001b[0;34m+\u001b[0m \u001b[0;36m1\u001b[0m\u001b[0;34m]\u001b[0m\u001b[0;34m)\u001b[0m\u001b[0;34m\u001b[0m\u001b[0m\n\u001b[0m\u001b[1;32m     84\u001b[0m \u001b[0;34m\u001b[0m\u001b[0m\n\u001b[1;32m     85\u001b[0m         \u001b[0mR_S\u001b[0m \u001b[0;34m=\u001b[0m \u001b[0mR_T\u001b[0m \u001b[0;34m/\u001b[0m \u001b[0mS_T\u001b[0m\u001b[0;34m\u001b[0m\u001b[0m\n",
      "\u001b[0;31mKeyboardInterrupt\u001b[0m: "
     ]
    }
   ],
   "source": [
    "import pandas as pd\n",
    "import numpy as np\n",
    "import pyeeg\n",
    "from numpy.random import randn\n",
    "from pandas import ExcelWriter\n",
    "from openpyxl import Workbook\n",
    "\n",
    "def rle(inarray):\n",
    "        \"\"\" run length encoding. Partial credit to R rle function. \n",
    "            Multi datatype arrays catered for including non Numpy\n",
    "            returns: tuple (runlengths, startpositions, values) \"\"\"\n",
    "        ia = np.array(inarray)                  # force numpy\n",
    "        n = len(ia)\n",
    "        if n == 0: \n",
    "            return (None, None, None)\n",
    "        else:\n",
    "            y = np.array(ia[1:] != ia[:-1])     # pairwise unequal (string safe)\n",
    "            i = np.append(np.where(y), n - 1)   # must include last element posi\n",
    "            z = np.diff(np.append(-1, i))       # run lengths\n",
    "            p = np.cumsum(np.append(0, z))[:-1] # positions\n",
    "            return(z, p, ia[i])\n",
    "\n",
    "names1 = [u'Омельченко Сергей',\n",
    "u'Захаренков Антон ',\n",
    "u'Ерин Федор',\n",
    "u'Гайнцева Татьяна',\n",
    "u'Антонова Нина']\n",
    "names2 = [\n",
    "u'Едигарьев Иван',\n",
    "u'Дробот Олег',\n",
    "u'Брицын Евгений',\n",
    "u'Жибоедова Анастасия',\n",
    "u'Архипов Ярослав']\n",
    "#folder = '2016-03-11_Collective_action'\n",
    "state = 'After_Soc'\n",
    "label = 2\n",
    "wb = Workbook()\n",
    "wb.save(filename = '{}_{}_EEH.xlsx'.format(folder,state))\n",
    "for line in [1,2]:\n",
    "    for n in range(5):\n",
    "        if line ==1 : x = pd.read_csv('{}/{}/000{}_X'.format(state,line,3*n), skiprows=10, sep=')', names = ['time','X'],index_col = False)\n",
    "        else: x = pd.read_csv('{}/{}/000{}_X'.format(state,line,2*n), skiprows=10, sep=')', names = ['time','X'],index_col = False)\n",
    "\n",
    "        if line == 1: y = pd.read_csv('{}/{}/000{}_Y'.format(state,line,3*n), skiprows=10, sep=')', names = ['time','Y'],index_col = False)\n",
    "        else: y = pd.read_csv('{}/{}/000{}_Y'.format(state,line,2*n), skiprows=10, sep=')', names = ['time','Y'],index_col = False)\n",
    "        if line == 1: z = pd.read_csv('{}/{}/000{}_Z'.format(state,line,3*n+1), skiprows=10, sep=')',names = ['time','Z'],index_col = False)\n",
    "        if line == 2: z = pd.read_csv('{}/{}/000{}_PZ'.format(state,line,2*n+1), skiprows=10, sep=')',names = ['time','Z'],index_col = False)\n",
    "\n",
    "        data = x.merge(y).merge(z)\n",
    "        \n",
    "        marker = pd.read_excel('{}/1/Markers_1-{}.xls'.format(state,label))\n",
    "        marker = marker[np.isfinite(marker['sec'])]\n",
    "        data = data.iloc[:int(marker['tic-tot'].iloc[[-1]])+5000]\n",
    "        \n",
    "        df = data[['X','Y','Z']].rolling( window=3, min_periods=1,center=True).mean().diff()\n",
    "        df = df[np.isfinite(df['X'])]\n",
    "        df = df**2\n",
    "        df = np.array(df.sum(axis = 1))\n",
    "        ndf = [df[i:i+1500] for i in range(0, len(df), 1500)]\n",
    "\n",
    "        mean = [j.mean() for j in ndf]\n",
    "        std = [j.std() for j in ndf]\n",
    "        energy = (np.array(mean)**2+np.array(std))**(1./2)\n",
    "        hurstl = [pyeeg.hurst(j) for j in ndf]\n",
    "        \n",
    "        de = data[['X','Y','Z']].rolling( window=3, min_periods=1,center=True).mean().diff()\n",
    "        de = de[np.isfinite(de['X'])]\n",
    "        nde = [np.array(de)[i:i+1500] for i in range(0, len(df), 1500)]\n",
    "\n",
    "        amax = [np.amax(j,axis = 0) for j in nde]\n",
    "        amin = [np.amin(j,axis = 0) for j in nde]\n",
    "        delta = (np.array(amax) - np.array(amin))/40\n",
    "        nde = [(nde[j] - amin[j])//delta[j]+1 for j in range(len(amin))]\n",
    "        t = [j[:,0]*1000000+j[:,1]*1000+j[:,2] for j in nde]\n",
    "        entropy = [-sum((rle(np.sort(i))[0]/1500.)*np.log2(rle(np.sort(i))[0]/1500.)) for i in t]\n",
    "        \n",
    "        \n",
    "        \n",
    "        from openpyxl import load_workbook\n",
    "\n",
    "        book = load_workbook('{}_EEH.xlsx'.format(state))\n",
    "        writer = pd.ExcelWriter('{}_EEH.xlsx'.format(state), engine='openpyxl') \n",
    "        writer.book = book\n",
    "        writer.sheets = dict((ws.title, ws) for ws in book.worksheets)\n",
    "\n",
    "        if (line == 1) : \n",
    "            data1 = pd.DataFrame(energy, columns=[names1[n]]).T.to_excel(writer, sheet_name = u'Energy', startrow = (line-1)*5+n, startcol = 1,header = False)\n",
    "            data2 = pd.DataFrame(entropy, columns=[names1[n]]).T.to_excel(writer, sheet_name = u'Entropy', startrow = (line-1)*5+n, startcol = 1,header = False)\n",
    "            data3 = pd.DataFrame(hurstl, columns=[names1[n]]).T.to_excel(writer, sheet_name = u'Hurst', startrow = (line-1)*5+n, startcol = 1,header = False)\n",
    "        else:\n",
    "            data1 = pd.DataFrame(energy, columns=[names2[n]]).T.to_excel(writer, sheet_name = u'Energy', startrow = (line-1)*5+n, startcol = 1,header = False)\n",
    "            data2 = pd.DataFrame(entropy, columns=[names2[n]]).T.to_excel(writer, sheet_name = u'Entropy', startrow = (line-1)*5+n, startcol = 1,header = False)\n",
    "            data3 = pd.DataFrame(hurstl, columns=[names2[n]]).T.to_excel(writer, sheet_name = u'Hurst', startrow = (line-1)*5+n, startcol = 1,header = False)\n",
    "        \n",
    "        writer.save()"
   ]
  },
  {
   "cell_type": "code",
   "execution_count": 4,
   "metadata": {
    "collapsed": true
   },
   "outputs": [],
   "source": [
    "data2"
   ]
  },
  {
   "cell_type": "code",
   "execution_count": 3,
   "metadata": {
    "collapsed": false
   },
   "outputs": [
    {
     "data": {
      "text/plain": [
       "(36,)"
      ]
     },
     "execution_count": 3,
     "metadata": {},
     "output_type": "execute_result"
    }
   ],
   "source": [
    "energy.shape"
   ]
  },
  {
   "cell_type": "code",
   "execution_count": null,
   "metadata": {
    "collapsed": true
   },
   "outputs": [],
   "source": []
  }
 ],
 "metadata": {
  "kernelspec": {
   "display_name": "Python 2",
   "language": "python",
   "name": "python2"
  },
  "language_info": {
   "codemirror_mode": {
    "name": "ipython",
    "version": 2
   },
   "file_extension": ".py",
   "mimetype": "text/x-python",
   "name": "python",
   "nbconvert_exporter": "python",
   "pygments_lexer": "ipython2",
   "version": "2.7.11"
  }
 },
 "nbformat": 4,
 "nbformat_minor": 0
}
