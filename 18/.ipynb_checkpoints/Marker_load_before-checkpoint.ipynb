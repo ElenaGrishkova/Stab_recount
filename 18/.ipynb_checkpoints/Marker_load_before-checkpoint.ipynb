{
 "cells": [
  {
   "cell_type": "code",
   "execution_count": 20,
   "metadata": {
    "collapsed": false
   },
   "outputs": [],
   "source": [
    "import pandas as pd\n",
    "import numpy as np\n",
    "from pandas import ExcelWriter\n",
    "from openpyxl import Workbook\n",
    "\n",
    "names1 = [u'Николаева Анна',\n",
    "u'Лескин Иван',\n",
    "u'Магнитов Михаил',\n",
    "u'Пономарев Евгений',\n",
    "u'Ишханян Аршак']\n",
    "names2 = [\n",
    "u'Герасимов Антонн',\n",
    "u'Рулев Георгий',\n",
    "u'Биктайров Роман',\n",
    "u'Шилов Иннокентий',\n",
    "u'Мухаметдинов Гаяз']\n",
    "folder = '2016-03-11_Collective_action'\n",
    "state = 'Before_Soc'\n",
    "\n",
    "\n",
    "\n",
    "wb = Workbook()\n",
    "wb.save(filename = '{}_{}.xlsx'.format(folder,state))\n",
    "for line in [1,2]:\n",
    "    for n in range(5):\n",
    "        x = pd.read_csv('{}/{}/{}/000{}_X'.format(folder,state,line,2*n), skiprows=10, sep=')', names = ['time','X'],index_col = False)\n",
    "        y = pd.read_csv('{}/{}/{}/000{}_Y'.format(folder,state,line,2*n), skiprows=10, sep=')', names = ['time','Y'],index_col = False)\n",
    "        z = pd.read_csv('{}/{}/{}/000{}_PZ'.format(folder,state,line,2*n+1), skiprows=10, sep=')',names = ['time','Z'],index_col = False)\n",
    "        data = x.merge(y).merge(z)\n",
    "        data['marker'] = '0'\n",
    "        data['stad'] = '0'\n",
    "\n",
    "        marker = pd.read_excel('2016-03-11_Collective_action/Before_Soc/1/Markers_1-1.xls')\n",
    "        marker = marker[np.isfinite(marker['sec'])]\n",
    "\n",
    "        for u in range(len(marker['tic-tot'])-1):\n",
    "            data.iloc[[j for j in range (np.array(marker['tic-tot'].astype(int))[u],np.array(marker['tic-tot'].astype(int))[u+1])],[4]] = 'Marker {}'.format(u+1)\n",
    "\n",
    "        for u in range(2,len(marker['tic-tot'])-1,2):\n",
    "            data.iloc[[j for j in range (np.array(marker['tic-tot'].astype(int))[u],np.array(marker['tic-tot'].astype(int))[u+1])],[5]] = 'Extract per{} start'.format(int((u-1)/2.)+1)\n",
    "\n",
    "        for u in range(3,len(marker['tic-tot'])-1,2):\n",
    "            data.iloc[[j for j in range (np.array(marker['tic-tot'].astype(int))[u],np.array(marker['tic-tot'].astype(int))[u+1])],[5]] = 'Extract per{} res'.format(int((u-1)/2.))\n",
    "\n",
    "        data.iloc[[j for j in range (0,np.array(marker['tic-tot'].astype(int))[0])],[4]] = 'Marker 0'\n",
    "        data.iloc[[j for j in range (0,np.array(marker['tic-tot'].astype(int))[0])],[5]] = u'ГО'\n",
    "        data.iloc[[j for j in range (np.array(marker['tic-tot'].astype(int))[0],np.array(marker['tic-tot'].astype(int))[1])],[5]] = u'ГЗ'\n",
    "\n",
    "\n",
    "\n",
    "        from openpyxl import load_workbook\n",
    "\n",
    "        book = load_workbook('{}_{}.xlsx'.format(folder,state))\n",
    "        writer = pd.ExcelWriter('{}_{}.xlsx'.format(folder,state), engine='openpyxl') \n",
    "        writer.book = book\n",
    "        writer.sheets = dict((ws.title, ws) for ws in book.worksheets)\n",
    "\n",
    "        if (line == 1) : \n",
    "            data.to_excel(writer, sheet_name=names1[n])\n",
    "        else :\n",
    "            data.to_excel(writer, sheet_name=names2[n])\n",
    "        writer.save()"
   ]
  },
  {
   "cell_type": "code",
   "execution_count": null,
   "metadata": {
    "collapsed": true
   },
   "outputs": [],
   "source": []
  }
 ],
 "metadata": {
  "kernelspec": {
   "display_name": "Python 2",
   "language": "python",
   "name": "python2"
  },
  "language_info": {
   "codemirror_mode": {
    "name": "ipython",
    "version": 2
   },
   "file_extension": ".py",
   "mimetype": "text/x-python",
   "name": "python",
   "nbconvert_exporter": "python",
   "pygments_lexer": "ipython2",
   "version": "2.7.11"
  }
 },
 "nbformat": 4,
 "nbformat_minor": 0
}
