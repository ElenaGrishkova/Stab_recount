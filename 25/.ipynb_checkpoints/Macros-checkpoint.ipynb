{
 "cells": [
  {
   "cell_type": "code",
   "execution_count": 2,
   "metadata": {
    "collapsed": false
   },
   "outputs": [
    {
     "name": "stderr",
     "output_type": "stream",
     "text": [
      "/Users/antonzaharenkov/Documents/anaconda/lib/python2.7/site-packages/pandas/computation/__init__.py:19: UserWarning: The installed version of numexpr 2.4.4 is not supported in pandas and will be not be used\n",
      "\n",
      "  UserWarning)\n"
     ]
    }
   ],
   "source": [
    "import pandas as pd\n",
    "import numpy as np\n",
    "import pyeeg\n",
    "from numpy.random import randn"
   ]
  },
  {
   "cell_type": "code",
   "execution_count": 3,
   "metadata": {
    "collapsed": false
   },
   "outputs": [],
   "source": [
    "x = pd.read_csv('Before_Soc/1/0000_X', skiprows=10, sep=')', names = ['time','X'],index_col = False)\n",
    "y = pd.read_csv('Before_Soc/1/0000_Y', skiprows=10, sep=')', names = ['time','Y'],index_col = False)\n",
    "z = pd.read_csv('Before_Soc/1/0001_PZ', skiprows=10, sep=')',names = ['time','Z'],index_col = False)\n",
    "info = pd.read_excel('160325_SO1-2.xlsx',sheetname=u'160325_О1', index_col=0)\n",
    "info2 = pd.read_excel('160325_SO1-2.xlsx',sheetname=u'О2', index_col=0)\n",
    "data = x.merge(y).merge(z)\n",
    "data['marker'] = '0'\n",
    "data['stad'] = '0'"
   ]
  },
  {
   "cell_type": "code",
   "execution_count": 4,
   "metadata": {
    "collapsed": false
   },
   "outputs": [],
   "source": [
    "marker = pd.read_excel('Before_Soc/1/Markers_1-1.xls')\n",
    "marker = marker[np.isfinite(marker['sec'])]"
   ]
  },
  {
   "cell_type": "code",
   "execution_count": 5,
   "metadata": {
    "collapsed": false
   },
   "outputs": [
    {
     "data": {
      "text/html": [
       "<div>\n",
       "<table border=\"1\" class=\"dataframe\">\n",
       "  <thead>\n",
       "    <tr style=\"text-align: right;\">\n",
       "      <th></th>\n",
       "      <th>[Main]</th>\n",
       "      <th>Unnamed: 1</th>\n",
       "      <th>3</th>\n",
       "      <th>tic-tot</th>\n",
       "      <th>sec-tot</th>\n",
       "      <th>tic</th>\n",
       "      <th>min</th>\n",
       "      <th>sec</th>\n",
       "      <th>t</th>\n",
       "      <th>Δt, sec</th>\n",
       "    </tr>\n",
       "  </thead>\n",
       "  <tbody>\n",
       "    <tr>\n",
       "      <th>4</th>\n",
       "      <td>Position=1529</td>\n",
       "      <td>ГЗ</td>\n",
       "      <td>[Marker 1]</td>\n",
       "      <td>1529.0</td>\n",
       "      <td>30.0</td>\n",
       "      <td>29.0</td>\n",
       "      <td>0.0</td>\n",
       "      <td>30.0</td>\n",
       "      <td>0:30.29</td>\n",
       "      <td>30.0</td>\n",
       "    </tr>\n",
       "    <tr>\n",
       "      <th>7</th>\n",
       "      <td>Position=3118</td>\n",
       "      <td>ГЗ_end</td>\n",
       "      <td>[Marker 2]</td>\n",
       "      <td>3118.0</td>\n",
       "      <td>62.0</td>\n",
       "      <td>18.0</td>\n",
       "      <td>1.0</td>\n",
       "      <td>2.0</td>\n",
       "      <td>1:2.18</td>\n",
       "      <td>32.0</td>\n",
       "    </tr>\n",
       "    <tr>\n",
       "      <th>10</th>\n",
       "      <td>Position=4782</td>\n",
       "      <td>Extract start 1 per</td>\n",
       "      <td>[Marker 3]</td>\n",
       "      <td>4782.0</td>\n",
       "      <td>95.0</td>\n",
       "      <td>32.0</td>\n",
       "      <td>1.0</td>\n",
       "      <td>35.0</td>\n",
       "      <td>1:35.32</td>\n",
       "      <td>33.0</td>\n",
       "    </tr>\n",
       "    <tr>\n",
       "      <th>13</th>\n",
       "      <td>Position=21390</td>\n",
       "      <td>Extract end</td>\n",
       "      <td>[Marker 4]</td>\n",
       "      <td>21390.0</td>\n",
       "      <td>427.0</td>\n",
       "      <td>40.0</td>\n",
       "      <td>7.0</td>\n",
       "      <td>7.0</td>\n",
       "      <td>7:7.40</td>\n",
       "      <td>332.0</td>\n",
       "    </tr>\n",
       "    <tr>\n",
       "      <th>16</th>\n",
       "      <td>Position=22504</td>\n",
       "      <td>Show res of Extract</td>\n",
       "      <td>[Marker 5]</td>\n",
       "      <td>22504.0</td>\n",
       "      <td>450.0</td>\n",
       "      <td>4.0</td>\n",
       "      <td>7.0</td>\n",
       "      <td>30.0</td>\n",
       "      <td>7:30.4</td>\n",
       "      <td>23.0</td>\n",
       "    </tr>\n",
       "    <tr>\n",
       "      <th>19</th>\n",
       "      <td>Position=23954</td>\n",
       "      <td>Contrib start 1 per</td>\n",
       "      <td>[Marker 6]</td>\n",
       "      <td>23954.0</td>\n",
       "      <td>479.0</td>\n",
       "      <td>4.0</td>\n",
       "      <td>7.0</td>\n",
       "      <td>59.0</td>\n",
       "      <td>7:59.4</td>\n",
       "      <td>29.0</td>\n",
       "    </tr>\n",
       "    <tr>\n",
       "      <th>22</th>\n",
       "      <td>Position=49373</td>\n",
       "      <td>Contrib end</td>\n",
       "      <td>[Marker 7]</td>\n",
       "      <td>49373.0</td>\n",
       "      <td>987.0</td>\n",
       "      <td>23.0</td>\n",
       "      <td>16.0</td>\n",
       "      <td>27.0</td>\n",
       "      <td>16:27.23</td>\n",
       "      <td>508.0</td>\n",
       "    </tr>\n",
       "  </tbody>\n",
       "</table>\n",
       "</div>"
      ],
      "text/plain": [
       "            [Main]           Unnamed: 1           3  tic-tot  sec-tot   tic  \\\n",
       "4    Position=1529                   ГЗ  [Marker 1]   1529.0     30.0  29.0   \n",
       "7    Position=3118               ГЗ_end  [Marker 2]   3118.0     62.0  18.0   \n",
       "10   Position=4782  Extract start 1 per  [Marker 3]   4782.0     95.0  32.0   \n",
       "13  Position=21390          Extract end  [Marker 4]  21390.0    427.0  40.0   \n",
       "16  Position=22504  Show res of Extract  [Marker 5]  22504.0    450.0   4.0   \n",
       "19  Position=23954  Contrib start 1 per  [Marker 6]  23954.0    479.0   4.0   \n",
       "22  Position=49373          Contrib end  [Marker 7]  49373.0    987.0  23.0   \n",
       "\n",
       "     min   sec         t  Δt, sec  \n",
       "4    0.0  30.0   0:30.29     30.0  \n",
       "7    1.0   2.0    1:2.18     32.0  \n",
       "10   1.0  35.0   1:35.32     33.0  \n",
       "13   7.0   7.0    7:7.40    332.0  \n",
       "16   7.0  30.0    7:30.4     23.0  \n",
       "19   7.0  59.0    7:59.4     29.0  \n",
       "22  16.0  27.0  16:27.23    508.0  "
      ]
     },
     "execution_count": 5,
     "metadata": {},
     "output_type": "execute_result"
    }
   ],
   "source": [
    "marker"
   ]
  },
  {
   "cell_type": "code",
   "execution_count": 6,
   "metadata": {
    "collapsed": false
   },
   "outputs": [
    {
     "ename": "XLRDError",
     "evalue": "Unsupported format, or corrupt file: Expected BOF record; found '160325_1'",
     "output_type": "error",
     "traceback": [
      "\u001b[0;31m---------------------------------------------------------------------------\u001b[0m",
      "\u001b[0;31mXLRDError\u001b[0m                                 Traceback (most recent call last)",
      "\u001b[0;32m<ipython-input-6-7788301112a6>\u001b[0m in \u001b[0;36m<module>\u001b[0;34m()\u001b[0m\n\u001b[0;32m----> 1\u001b[0;31m \u001b[0mzt\u001b[0m \u001b[0;34m=\u001b[0m \u001b[0mpd\u001b[0m\u001b[0;34m.\u001b[0m\u001b[0mread_excel\u001b[0m\u001b[0;34m(\u001b[0m\u001b[0;34m'160325_1145.xls'\u001b[0m\u001b[0;34m)\u001b[0m\u001b[0;34m\u001b[0m\u001b[0m\n\u001b[0m",
      "\u001b[0;32m/Users/antonzaharenkov/Documents/anaconda/lib/python2.7/site-packages/pandas/io/excel.pyc\u001b[0m in \u001b[0;36mread_excel\u001b[0;34m(io, sheetname, header, skiprows, skip_footer, index_col, names, parse_cols, parse_dates, date_parser, na_values, thousands, convert_float, has_index_names, converters, engine, squeeze, **kwds)\u001b[0m\n\u001b[1;32m    167\u001b[0m     \"\"\"\n\u001b[1;32m    168\u001b[0m     \u001b[0;32mif\u001b[0m \u001b[0;32mnot\u001b[0m \u001b[0misinstance\u001b[0m\u001b[0;34m(\u001b[0m\u001b[0mio\u001b[0m\u001b[0;34m,\u001b[0m \u001b[0mExcelFile\u001b[0m\u001b[0;34m)\u001b[0m\u001b[0;34m:\u001b[0m\u001b[0;34m\u001b[0m\u001b[0m\n\u001b[0;32m--> 169\u001b[0;31m         \u001b[0mio\u001b[0m \u001b[0;34m=\u001b[0m \u001b[0mExcelFile\u001b[0m\u001b[0;34m(\u001b[0m\u001b[0mio\u001b[0m\u001b[0;34m,\u001b[0m \u001b[0mengine\u001b[0m\u001b[0;34m=\u001b[0m\u001b[0mengine\u001b[0m\u001b[0;34m)\u001b[0m\u001b[0;34m\u001b[0m\u001b[0m\n\u001b[0m\u001b[1;32m    170\u001b[0m \u001b[0;34m\u001b[0m\u001b[0m\n\u001b[1;32m    171\u001b[0m     return io._parse_excel(\n",
      "\u001b[0;32m/Users/antonzaharenkov/Documents/anaconda/lib/python2.7/site-packages/pandas/io/excel.pyc\u001b[0m in \u001b[0;36m__init__\u001b[0;34m(self, io, **kwds)\u001b[0m\n\u001b[1;32m    216\u001b[0m                 \u001b[0mself\u001b[0m\u001b[0;34m.\u001b[0m\u001b[0mbook\u001b[0m \u001b[0;34m=\u001b[0m \u001b[0mxlrd\u001b[0m\u001b[0;34m.\u001b[0m\u001b[0mopen_workbook\u001b[0m\u001b[0;34m(\u001b[0m\u001b[0mfile_contents\u001b[0m\u001b[0;34m=\u001b[0m\u001b[0mdata\u001b[0m\u001b[0;34m)\u001b[0m\u001b[0;34m\u001b[0m\u001b[0m\n\u001b[1;32m    217\u001b[0m             \u001b[0;32melse\u001b[0m\u001b[0;34m:\u001b[0m\u001b[0;34m\u001b[0m\u001b[0m\n\u001b[0;32m--> 218\u001b[0;31m                 \u001b[0mself\u001b[0m\u001b[0;34m.\u001b[0m\u001b[0mbook\u001b[0m \u001b[0;34m=\u001b[0m \u001b[0mxlrd\u001b[0m\u001b[0;34m.\u001b[0m\u001b[0mopen_workbook\u001b[0m\u001b[0;34m(\u001b[0m\u001b[0mio\u001b[0m\u001b[0;34m)\u001b[0m\u001b[0;34m\u001b[0m\u001b[0m\n\u001b[0m\u001b[1;32m    219\u001b[0m         \u001b[0;32melif\u001b[0m \u001b[0mengine\u001b[0m \u001b[0;34m==\u001b[0m \u001b[0;34m'xlrd'\u001b[0m \u001b[0;32mand\u001b[0m \u001b[0misinstance\u001b[0m\u001b[0;34m(\u001b[0m\u001b[0mio\u001b[0m\u001b[0;34m,\u001b[0m \u001b[0mxlrd\u001b[0m\u001b[0;34m.\u001b[0m\u001b[0mBook\u001b[0m\u001b[0;34m)\u001b[0m\u001b[0;34m:\u001b[0m\u001b[0;34m\u001b[0m\u001b[0m\n\u001b[1;32m    220\u001b[0m             \u001b[0mself\u001b[0m\u001b[0;34m.\u001b[0m\u001b[0mbook\u001b[0m \u001b[0;34m=\u001b[0m \u001b[0mio\u001b[0m\u001b[0;34m\u001b[0m\u001b[0m\n",
      "\u001b[0;32m/Users/antonzaharenkov/Documents/anaconda/lib/python2.7/site-packages/xlrd/__init__.pyc\u001b[0m in \u001b[0;36mopen_workbook\u001b[0;34m(filename, logfile, verbosity, use_mmap, file_contents, encoding_override, formatting_info, on_demand, ragged_rows)\u001b[0m\n\u001b[1;32m    439\u001b[0m         \u001b[0mformatting_info\u001b[0m\u001b[0;34m=\u001b[0m\u001b[0mformatting_info\u001b[0m\u001b[0;34m,\u001b[0m\u001b[0;34m\u001b[0m\u001b[0m\n\u001b[1;32m    440\u001b[0m         \u001b[0mon_demand\u001b[0m\u001b[0;34m=\u001b[0m\u001b[0mon_demand\u001b[0m\u001b[0;34m,\u001b[0m\u001b[0;34m\u001b[0m\u001b[0m\n\u001b[0;32m--> 441\u001b[0;31m         \u001b[0mragged_rows\u001b[0m\u001b[0;34m=\u001b[0m\u001b[0mragged_rows\u001b[0m\u001b[0;34m,\u001b[0m\u001b[0;34m\u001b[0m\u001b[0m\n\u001b[0m\u001b[1;32m    442\u001b[0m         )\n\u001b[1;32m    443\u001b[0m     \u001b[0;32mreturn\u001b[0m \u001b[0mbk\u001b[0m\u001b[0;34m\u001b[0m\u001b[0m\n",
      "\u001b[0;32m/Users/antonzaharenkov/Documents/anaconda/lib/python2.7/site-packages/xlrd/book.pyc\u001b[0m in \u001b[0;36mopen_workbook_xls\u001b[0;34m(filename, logfile, verbosity, use_mmap, file_contents, encoding_override, formatting_info, on_demand, ragged_rows)\u001b[0m\n\u001b[1;32m     89\u001b[0m         \u001b[0mt1\u001b[0m \u001b[0;34m=\u001b[0m \u001b[0mtime\u001b[0m\u001b[0;34m.\u001b[0m\u001b[0mclock\u001b[0m\u001b[0;34m(\u001b[0m\u001b[0;34m)\u001b[0m\u001b[0;34m\u001b[0m\u001b[0m\n\u001b[1;32m     90\u001b[0m         \u001b[0mbk\u001b[0m\u001b[0;34m.\u001b[0m\u001b[0mload_time_stage_1\u001b[0m \u001b[0;34m=\u001b[0m \u001b[0mt1\u001b[0m \u001b[0;34m-\u001b[0m \u001b[0mt0\u001b[0m\u001b[0;34m\u001b[0m\u001b[0m\n\u001b[0;32m---> 91\u001b[0;31m         \u001b[0mbiff_version\u001b[0m \u001b[0;34m=\u001b[0m \u001b[0mbk\u001b[0m\u001b[0;34m.\u001b[0m\u001b[0mgetbof\u001b[0m\u001b[0;34m(\u001b[0m\u001b[0mXL_WORKBOOK_GLOBALS\u001b[0m\u001b[0;34m)\u001b[0m\u001b[0;34m\u001b[0m\u001b[0m\n\u001b[0m\u001b[1;32m     92\u001b[0m         \u001b[0;32mif\u001b[0m \u001b[0;32mnot\u001b[0m \u001b[0mbiff_version\u001b[0m\u001b[0;34m:\u001b[0m\u001b[0;34m\u001b[0m\u001b[0m\n\u001b[1;32m     93\u001b[0m             \u001b[0;32mraise\u001b[0m \u001b[0mXLRDError\u001b[0m\u001b[0;34m(\u001b[0m\u001b[0;34m\"Can't determine file's BIFF version\"\u001b[0m\u001b[0;34m)\u001b[0m\u001b[0;34m\u001b[0m\u001b[0m\n",
      "\u001b[0;32m/Users/antonzaharenkov/Documents/anaconda/lib/python2.7/site-packages/xlrd/book.pyc\u001b[0m in \u001b[0;36mgetbof\u001b[0;34m(self, rqd_stream)\u001b[0m\n\u001b[1;32m   1228\u001b[0m             \u001b[0mbof_error\u001b[0m\u001b[0;34m(\u001b[0m\u001b[0;34m'Expected BOF record; met end of file'\u001b[0m\u001b[0;34m)\u001b[0m\u001b[0;34m\u001b[0m\u001b[0m\n\u001b[1;32m   1229\u001b[0m         \u001b[0;32mif\u001b[0m \u001b[0mopcode\u001b[0m \u001b[0;32mnot\u001b[0m \u001b[0;32min\u001b[0m \u001b[0mbofcodes\u001b[0m\u001b[0;34m:\u001b[0m\u001b[0;34m\u001b[0m\u001b[0m\n\u001b[0;32m-> 1230\u001b[0;31m             \u001b[0mbof_error\u001b[0m\u001b[0;34m(\u001b[0m\u001b[0;34m'Expected BOF record; found %r'\u001b[0m \u001b[0;34m%\u001b[0m \u001b[0mself\u001b[0m\u001b[0;34m.\u001b[0m\u001b[0mmem\u001b[0m\u001b[0;34m[\u001b[0m\u001b[0msavpos\u001b[0m\u001b[0;34m:\u001b[0m\u001b[0msavpos\u001b[0m\u001b[0;34m+\u001b[0m\u001b[0;36m8\u001b[0m\u001b[0;34m]\u001b[0m\u001b[0;34m)\u001b[0m\u001b[0;34m\u001b[0m\u001b[0m\n\u001b[0m\u001b[1;32m   1231\u001b[0m         \u001b[0mlength\u001b[0m \u001b[0;34m=\u001b[0m \u001b[0mself\u001b[0m\u001b[0;34m.\u001b[0m\u001b[0mget2bytes\u001b[0m\u001b[0;34m(\u001b[0m\u001b[0;34m)\u001b[0m\u001b[0;34m\u001b[0m\u001b[0m\n\u001b[1;32m   1232\u001b[0m         \u001b[0;32mif\u001b[0m \u001b[0mlength\u001b[0m \u001b[0;34m==\u001b[0m \u001b[0mMY_EOF\u001b[0m\u001b[0;34m:\u001b[0m\u001b[0;34m\u001b[0m\u001b[0m\n",
      "\u001b[0;32m/Users/antonzaharenkov/Documents/anaconda/lib/python2.7/site-packages/xlrd/book.pyc\u001b[0m in \u001b[0;36mbof_error\u001b[0;34m(msg)\u001b[0m\n\u001b[1;32m   1222\u001b[0m         \u001b[0;32mif\u001b[0m \u001b[0mDEBUG\u001b[0m\u001b[0;34m:\u001b[0m \u001b[0;32mprint\u001b[0m\u001b[0;34m(\u001b[0m\u001b[0;34m\"reqd: 0x%04x\"\u001b[0m \u001b[0;34m%\u001b[0m \u001b[0mrqd_stream\u001b[0m\u001b[0;34m,\u001b[0m \u001b[0mfile\u001b[0m\u001b[0;34m=\u001b[0m\u001b[0mself\u001b[0m\u001b[0;34m.\u001b[0m\u001b[0mlogfile\u001b[0m\u001b[0;34m)\u001b[0m\u001b[0;34m\u001b[0m\u001b[0m\n\u001b[1;32m   1223\u001b[0m         \u001b[0;32mdef\u001b[0m \u001b[0mbof_error\u001b[0m\u001b[0;34m(\u001b[0m\u001b[0mmsg\u001b[0m\u001b[0;34m)\u001b[0m\u001b[0;34m:\u001b[0m\u001b[0;34m\u001b[0m\u001b[0m\n\u001b[0;32m-> 1224\u001b[0;31m             \u001b[0;32mraise\u001b[0m \u001b[0mXLRDError\u001b[0m\u001b[0;34m(\u001b[0m\u001b[0;34m'Unsupported format, or corrupt file: '\u001b[0m \u001b[0;34m+\u001b[0m \u001b[0mmsg\u001b[0m\u001b[0;34m)\u001b[0m\u001b[0;34m\u001b[0m\u001b[0m\n\u001b[0m\u001b[1;32m   1225\u001b[0m         \u001b[0msavpos\u001b[0m \u001b[0;34m=\u001b[0m \u001b[0mself\u001b[0m\u001b[0;34m.\u001b[0m\u001b[0m_position\u001b[0m\u001b[0;34m\u001b[0m\u001b[0m\n\u001b[1;32m   1226\u001b[0m         \u001b[0mopcode\u001b[0m \u001b[0;34m=\u001b[0m \u001b[0mself\u001b[0m\u001b[0;34m.\u001b[0m\u001b[0mget2bytes\u001b[0m\u001b[0;34m(\u001b[0m\u001b[0;34m)\u001b[0m\u001b[0;34m\u001b[0m\u001b[0m\n",
      "\u001b[0;31mXLRDError\u001b[0m: Unsupported format, or corrupt file: Expected BOF record; found '160325_1'"
     ]
    }
   ],
   "source": [
    "zt = pd.read_excel('160325_1145.xls')\n"
   ]
  },
  {
   "cell_type": "code",
   "execution_count": null,
   "metadata": {
    "collapsed": true
   },
   "outputs": [],
   "source": []
  },
  {
   "cell_type": "code",
   "execution_count": null,
   "metadata": {
    "collapsed": true
   },
   "outputs": [],
   "source": []
  },
  {
   "cell_type": "code",
   "execution_count": null,
   "metadata": {
    "collapsed": true
   },
   "outputs": [],
   "source": []
  },
  {
   "cell_type": "code",
   "execution_count": 43,
   "metadata": {
    "collapsed": false
   },
   "outputs": [
    {
     "data": {
      "text/html": [
       "<div>\n",
       "<table border=\"1\" class=\"dataframe\">\n",
       "  <thead>\n",
       "    <tr style=\"text-align: right;\">\n",
       "      <th></th>\n",
       "      <th>time</th>\n",
       "      <th>X</th>\n",
       "      <th>Y</th>\n",
       "      <th>Z</th>\n",
       "      <th>marker</th>\n",
       "      <th>stad</th>\n",
       "    </tr>\n",
       "  </thead>\n",
       "  <tbody>\n",
       "    <tr>\n",
       "      <th>22170</th>\n",
       "      <td>07:23.40</td>\n",
       "      <td>-5.632812</td>\n",
       "      <td>-101.968750</td>\n",
       "      <td>-71.117249</td>\n",
       "      <td>Marker 23</td>\n",
       "      <td>Contrib per1 start</td>\n",
       "    </tr>\n",
       "    <tr>\n",
       "      <th>22171</th>\n",
       "      <td>07:23.42</td>\n",
       "      <td>-5.609375</td>\n",
       "      <td>-102.023438</td>\n",
       "      <td>-71.141449</td>\n",
       "      <td>Marker 23</td>\n",
       "      <td>Contrib per1 start</td>\n",
       "    </tr>\n",
       "    <tr>\n",
       "      <th>22172</th>\n",
       "      <td>07:23.44</td>\n",
       "      <td>-5.585938</td>\n",
       "      <td>-102.070312</td>\n",
       "      <td>-71.132080</td>\n",
       "      <td>Marker 23</td>\n",
       "      <td>Contrib per1 start</td>\n",
       "    </tr>\n",
       "    <tr>\n",
       "      <th>22173</th>\n",
       "      <td>07:23.46</td>\n",
       "      <td>-5.593750</td>\n",
       "      <td>-102.117188</td>\n",
       "      <td>-71.100433</td>\n",
       "      <td>Marker 23</td>\n",
       "      <td>Contrib per1 start</td>\n",
       "    </tr>\n",
       "    <tr>\n",
       "      <th>22174</th>\n",
       "      <td>07:23.48</td>\n",
       "      <td>-5.609375</td>\n",
       "      <td>-102.132812</td>\n",
       "      <td>-71.076843</td>\n",
       "      <td>Marker 23</td>\n",
       "      <td>Contrib per1 start</td>\n",
       "    </tr>\n",
       "    <tr>\n",
       "      <th>22175</th>\n",
       "      <td>07:23.50</td>\n",
       "      <td>-5.640625</td>\n",
       "      <td>-102.132812</td>\n",
       "      <td>-71.043854</td>\n",
       "      <td>Marker 24</td>\n",
       "      <td>Contrib per2 res</td>\n",
       "    </tr>\n",
       "    <tr>\n",
       "      <th>22176</th>\n",
       "      <td>07:23.52</td>\n",
       "      <td>-5.695312</td>\n",
       "      <td>-102.109375</td>\n",
       "      <td>-71.021484</td>\n",
       "      <td>Marker 24</td>\n",
       "      <td>Contrib per2 res</td>\n",
       "    </tr>\n",
       "    <tr>\n",
       "      <th>22177</th>\n",
       "      <td>07:23.54</td>\n",
       "      <td>-5.773438</td>\n",
       "      <td>-102.093750</td>\n",
       "      <td>-70.985168</td>\n",
       "      <td>Marker 24</td>\n",
       "      <td>Contrib per2 res</td>\n",
       "    </tr>\n",
       "    <tr>\n",
       "      <th>22178</th>\n",
       "      <td>07:23.56</td>\n",
       "      <td>-5.867188</td>\n",
       "      <td>-102.031250</td>\n",
       "      <td>-70.970825</td>\n",
       "      <td>Marker 24</td>\n",
       "      <td>Contrib per2 res</td>\n",
       "    </tr>\n",
       "    <tr>\n",
       "      <th>22179</th>\n",
       "      <td>07:23.58</td>\n",
       "      <td>-5.945312</td>\n",
       "      <td>-101.976562</td>\n",
       "      <td>-70.952454</td>\n",
       "      <td>Marker 24</td>\n",
       "      <td>Contrib per2 res</td>\n",
       "    </tr>\n",
       "  </tbody>\n",
       "</table>\n",
       "</div>"
      ],
      "text/plain": [
       "           time         X           Y          Z     marker  \\\n",
       "22170  07:23.40 -5.632812 -101.968750 -71.117249  Marker 23   \n",
       "22171  07:23.42 -5.609375 -102.023438 -71.141449  Marker 23   \n",
       "22172  07:23.44 -5.585938 -102.070312 -71.132080  Marker 23   \n",
       "22173  07:23.46 -5.593750 -102.117188 -71.100433  Marker 23   \n",
       "22174  07:23.48 -5.609375 -102.132812 -71.076843  Marker 23   \n",
       "22175  07:23.50 -5.640625 -102.132812 -71.043854  Marker 24   \n",
       "22176  07:23.52 -5.695312 -102.109375 -71.021484  Marker 24   \n",
       "22177  07:23.54 -5.773438 -102.093750 -70.985168  Marker 24   \n",
       "22178  07:23.56 -5.867188 -102.031250 -70.970825  Marker 24   \n",
       "22179  07:23.58 -5.945312 -101.976562 -70.952454  Marker 24   \n",
       "\n",
       "                     stad  \n",
       "22170  Contrib per1 start  \n",
       "22171  Contrib per1 start  \n",
       "22172  Contrib per1 start  \n",
       "22173  Contrib per1 start  \n",
       "22174  Contrib per1 start  \n",
       "22175    Contrib per2 res  \n",
       "22176    Contrib per2 res  \n",
       "22177    Contrib per2 res  \n",
       "22178    Contrib per2 res  \n",
       "22179    Contrib per2 res  "
      ]
     },
     "execution_count": 43,
     "metadata": {},
     "output_type": "execute_result"
    }
   ],
   "source": [
    "data[22170:22180]"
   ]
  },
  {
   "cell_type": "code",
   "execution_count": 36,
   "metadata": {
    "collapsed": false,
    "scrolled": true
   },
   "outputs": [],
   "source": [
    "marker = marker.drop(marker.index[[26]])"
   ]
  },
  {
   "cell_type": "code",
   "execution_count": 25,
   "metadata": {
    "collapsed": false
   },
   "outputs": [],
   "source": [
    "data = data.drop(data.index[range(23995,32379)])"
   ]
  },
  {
   "cell_type": "code",
   "execution_count": 6,
   "metadata": {
    "collapsed": false
   },
   "outputs": [],
   "source": [
    "for u in range(len(marker['tic-tot'])-1):\n",
    "    data.iloc[[j for j in range (np.array(marker['tic-tot'].astype(int))[u],np.array(marker['tic-tot'].astype(int))[u+1])],[4]] = 'Marker {}'.format(u+1)\n",
    "    "
   ]
  },
  {
   "cell_type": "code",
   "execution_count": 16,
   "metadata": {
    "collapsed": true
   },
   "outputs": [],
   "source": [
    "for u in range(2,22,2):\n",
    "    data.iloc[[j for j in range (np.array(marker['tic-tot'].astype(int))[u],np.array(marker['tic-tot'].astype(int))[u+1])],[5]] = 'Extract per{} start'.format(int((u-1)/2.)+1)"
   ]
  },
  {
   "cell_type": "code",
   "execution_count": 17,
   "metadata": {
    "collapsed": true
   },
   "outputs": [],
   "source": [
    "for u in range(3,22,2):\n",
    "    data.iloc[[j for j in range (np.array(marker['tic-tot'].astype(int))[u],np.array(marker['tic-tot'].astype(int))[u+1])],[5]] = 'Extract per{} res'.format(int((u-1)/2.))"
   ]
  },
  {
   "cell_type": "code",
   "execution_count": 18,
   "metadata": {
    "collapsed": true
   },
   "outputs": [],
   "source": [
    "for u in range(22,41,2):\n",
    "    data.iloc[[j for j in range (np.array(marker['tic-tot'].astype(int))[u],np.array(marker['tic-tot'].astype(int))[u+1])],[5]] = 'Contrib per{} start'.format(int((u-1)/2.)-9)"
   ]
  },
  {
   "cell_type": "code",
   "execution_count": 19,
   "metadata": {
    "collapsed": false
   },
   "outputs": [],
   "source": [
    "for u in range(23,41,2):\n",
    "    data.iloc[[j for j in range (np.array(marker['tic-tot'].astype(int))[u],np.array(marker['tic-tot'].astype(int))[u+1])],[5]] = 'Contrib per{} res'.format(int((u-1)/2.)-9)"
   ]
  },
  {
   "cell_type": "code",
   "execution_count": 10,
   "metadata": {
    "collapsed": true
   },
   "outputs": [],
   "source": [
    "data.iloc[[j for j in range (0,np.array(marker['tic-tot'].astype(int))[0])],[4]] = 'Marker 0'\n",
    "data.iloc[[j for j in range (0,np.array(marker['tic-tot'].astype(int))[0])],[5]] = u'ГО'\n",
    "data.iloc[[j for j in range (np.array(marker['tic-tot'].astype(int))[0],np.array(marker['tic-tot'].astype(int))[1])],[5]] = u'ГЗ'"
   ]
  },
  {
   "cell_type": "code",
   "execution_count": 11,
   "metadata": {
    "collapsed": true
   },
   "outputs": [],
   "source": [
    "data.iloc[[j for j in range (np.array(marker['tic-tot'].astype(int))[41],np.array(marker['tic-tot'].astype(int))[42])],[5]] = 'Contrib end'\n",
    "data.iloc[[j for j in range (np.array(marker['tic-tot'].astype(int))[42],np.array(marker['tic-tot'].astype(int))[43])],[5]] = 'ГО'\n",
    "\n",
    "data.iloc[[j for j in range (np.array(marker['tic-tot'].astype(int))[43],np.array(marker['tic-tot'].astype(int))[44])],[5]] = 'ГЗ'\n",
    "\n"
   ]
  },
  {
   "cell_type": "code",
   "execution_count": 24,
   "metadata": {
    "collapsed": true
   },
   "outputs": [],
   "source": [
    "data['Profit'] = '0'\n",
    "for u in range(2,21):\n",
    "    data.iloc[[j for j in range (np.array(marker['tic-tot'].astype(int))[u],np.array(marker['tic-tot'].astype(int))[u+1])],[6]] = np.array(info.iloc[[12*(int((u)/2.)-1)],[2]])[0][0]\n",
    "\n",
    "for u in range(21,41):\n",
    "    data.iloc[[j for j in range (np.array(marker['tic-tot'].astype(int))[u],np.array(marker['tic-tot'].astype(int))[u+1])],[6]] = np.array(info2.iloc[[12*(int((u+1)/2.)-11)],[2]])[0][0]\n"
   ]
  },
  {
   "cell_type": "code",
   "execution_count": 21,
   "metadata": {
    "collapsed": false
   },
   "outputs": [
    {
     "data": {
      "text/html": [
       "<div>\n",
       "<table border=\"1\" class=\"dataframe\">\n",
       "  <thead>\n",
       "    <tr style=\"text-align: right;\">\n",
       "      <th></th>\n",
       "      <th>Profit</th>\n",
       "    </tr>\n",
       "    <tr>\n",
       "      <th>Period</th>\n",
       "      <th></th>\n",
       "    </tr>\n",
       "  </thead>\n",
       "  <tbody>\n",
       "    <tr>\n",
       "      <th>1</th>\n",
       "      <td>1</td>\n",
       "    </tr>\n",
       "  </tbody>\n",
       "</table>\n",
       "</div>"
      ],
      "text/plain": [
       "        Profit\n",
       "Period        \n",
       "1            1"
      ]
     },
     "execution_count": 21,
     "metadata": {},
     "output_type": "execute_result"
    }
   ],
   "source": [
    "info2.iloc[[12*(int((22)/2.)-11)],[2]]"
   ]
  },
  {
   "cell_type": "code",
   "execution_count": 22,
   "metadata": {
    "collapsed": false,
    "scrolled": true
   },
   "outputs": [
    {
     "data": {
      "text/html": [
       "<div>\n",
       "<table border=\"1\" class=\"dataframe\">\n",
       "  <thead>\n",
       "    <tr style=\"text-align: right;\">\n",
       "      <th></th>\n",
       "      <th>time</th>\n",
       "      <th>X</th>\n",
       "      <th>Y</th>\n",
       "      <th>Z</th>\n",
       "      <th>marker</th>\n",
       "      <th>stad</th>\n",
       "    </tr>\n",
       "  </thead>\n",
       "  <tbody>\n",
       "    <tr>\n",
       "      <th>21129</th>\n",
       "      <td>07:02.58</td>\n",
       "      <td>8.109375</td>\n",
       "      <td>21.867188</td>\n",
       "      <td>-64.299835</td>\n",
       "      <td>Marker 22</td>\n",
       "      <td>Extract per10 res</td>\n",
       "    </tr>\n",
       "    <tr>\n",
       "      <th>21130</th>\n",
       "      <td>07:02.60</td>\n",
       "      <td>8.078125</td>\n",
       "      <td>21.921875</td>\n",
       "      <td>-64.285767</td>\n",
       "      <td>Marker 23</td>\n",
       "      <td>Contrib per1 start</td>\n",
       "    </tr>\n",
       "    <tr>\n",
       "      <th>21131</th>\n",
       "      <td>07:02.62</td>\n",
       "      <td>8.046875</td>\n",
       "      <td>21.976562</td>\n",
       "      <td>-64.262634</td>\n",
       "      <td>Marker 23</td>\n",
       "      <td>Contrib per1 start</td>\n",
       "    </tr>\n",
       "    <tr>\n",
       "      <th>21132</th>\n",
       "      <td>07:02.64</td>\n",
       "      <td>8.070312</td>\n",
       "      <td>22.023438</td>\n",
       "      <td>-64.239319</td>\n",
       "      <td>Marker 23</td>\n",
       "      <td>Contrib per1 start</td>\n",
       "    </tr>\n",
       "    <tr>\n",
       "      <th>21133</th>\n",
       "      <td>07:02.66</td>\n",
       "      <td>8.101562</td>\n",
       "      <td>22.070312</td>\n",
       "      <td>-64.239075</td>\n",
       "      <td>Marker 23</td>\n",
       "      <td>Contrib per1 start</td>\n",
       "    </tr>\n",
       "  </tbody>\n",
       "</table>\n",
       "</div>"
      ],
      "text/plain": [
       "           time         X          Y          Z     marker                stad\n",
       "21129  07:02.58  8.109375  21.867188 -64.299835  Marker 22   Extract per10 res\n",
       "21130  07:02.60  8.078125  21.921875 -64.285767  Marker 23  Contrib per1 start\n",
       "21131  07:02.62  8.046875  21.976562 -64.262634  Marker 23  Contrib per1 start\n",
       "21132  07:02.64  8.070312  22.023438 -64.239319  Marker 23  Contrib per1 start\n",
       "21133  07:02.66  8.101562  22.070312 -64.239075  Marker 23  Contrib per1 start"
      ]
     },
     "execution_count": 22,
     "metadata": {},
     "output_type": "execute_result"
    }
   ],
   "source": [
    "data[21129:21134]"
   ]
  },
  {
   "cell_type": "code",
   "execution_count": null,
   "metadata": {
    "collapsed": true
   },
   "outputs": [],
   "source": [
    "data['Profit'] = '0'\n",
    "data['TotalProfit'] = '0'"
   ]
  },
  {
   "cell_type": "code",
   "execution_count": null,
   "metadata": {
    "collapsed": false
   },
   "outputs": [],
   "source": [
    "info = pd.read_excel('160318_SO1-2.xlsx',sheetname=u'160318_О1', index_col=0)"
   ]
  },
  {
   "cell_type": "code",
   "execution_count": null,
   "metadata": {
    "collapsed": false
   },
   "outputs": [],
   "source": [
    "for u in range(2,21):\n",
    "    data.iloc[[j for j in range (np.array(marker['tic-tot'].astype(int))[u],np.array(marker['tic-tot'].astype(int))[u+1])],[6]] = np.array(info.iloc[[12*(int((u)/2.)-1)],[2]])[0][0]"
   ]
  },
  {
   "cell_type": "code",
   "execution_count": null,
   "metadata": {
    "collapsed": false
   },
   "outputs": [],
   "source": [
    "int(4/2.)"
   ]
  },
  {
   "cell_type": "code",
   "execution_count": null,
   "metadata": {
    "collapsed": false
   },
   "outputs": [],
   "source": [
    "np.array(info.iloc[[12*(int((u)/2.)-1)],[2]])[0][0]"
   ]
  },
  {
   "cell_type": "code",
   "execution_count": null,
   "metadata": {
    "collapsed": false
   },
   "outputs": [],
   "source": [
    "[j for j in range (0,np.array(marker['tic-tot'].astype(int))[0])]"
   ]
  },
  {
   "cell_type": "code",
   "execution_count": null,
   "metadata": {
    "collapsed": false
   },
   "outputs": [],
   "source": [
    "df = data[['X','Y','Z']].rolling( window=3, min_periods=1,center=True).mean().diff()\n",
    "df = df[np.isfinite(df['X'])]\n",
    "df = df**2\n",
    "df = np.array(df.sum(axis = 1))\n",
    "df"
   ]
  },
  {
   "cell_type": "code",
   "execution_count": null,
   "metadata": {
    "collapsed": true
   },
   "outputs": [],
   "source": []
  },
  {
   "cell_type": "code",
   "execution_count": null,
   "metadata": {
    "collapsed": false
   },
   "outputs": [],
   "source": [
    "df = data[['X','Y','Z']].rolling( window=3, min_periods=1,center=True).mean().diff()\n",
    "df = df[np.isfinite(df['X'])]\n",
    "df = df**2\n",
    "df = np.array(df.sum(axis = 1))\n",
    "ndf = [df[i:i+1500] for i in range(0, len(df), 1500)]\n",
    "\n",
    "mean = [j.mean() for j in ndf]\n",
    "std = [j.std() for j in ndf]\n",
    "energy = (np.array(mean)**2+np.array(std))**(1./2)\n",
    "hurstl = [pyeeg.hurst(j) for j in ndf]"
   ]
  },
  {
   "cell_type": "code",
   "execution_count": null,
   "metadata": {
    "collapsed": true
   },
   "outputs": [],
   "source": [
    "import numpy as np\n",
    "\n",
    "def rle(inarray):\n",
    "        \"\"\" run length encoding. Partial credit to R rle function. \n",
    "            Multi datatype arrays catered for including non Numpy\n",
    "            returns: tuple (runlengths, startpositions, values) \"\"\"\n",
    "        ia = np.array(inarray)                  # force numpy\n",
    "        n = len(ia)\n",
    "        if n == 0: \n",
    "            return (None, None, None)\n",
    "        else:\n",
    "            y = np.array(ia[1:] != ia[:-1])     # pairwise unequal (string safe)\n",
    "            i = np.append(np.where(y), n - 1)   # must include last element posi\n",
    "            z = np.diff(np.append(-1, i))       # run lengths\n",
    "            p = np.cumsum(np.append(0, z))[:-1] # positions\n",
    "            return(z, p, ia[i])"
   ]
  },
  {
   "cell_type": "code",
   "execution_count": null,
   "metadata": {
    "collapsed": false
   },
   "outputs": [],
   "source": [
    "de = data[['X','Y','Z']].rolling( window=3, min_periods=1,center=True).mean().diff()\n",
    "de = de[np.isfinite(de['X'])]\n",
    "nde = [np.array(de)[i:i+1500] for i in range(0, len(df), 1500)]\n",
    "\n",
    "amax = [np.amax(j,axis = 0) for j in nde]\n",
    "amin = [np.amin(j,axis = 0) for j in nde]\n",
    "delta = (np.array(amax) - np.array(amin))/40\n",
    "nde = [(nde[j] - amin[j])//delta[j]+1 for j in range(len(amin))]\n",
    "t = [j[:,0]*1000000+j[:,1]*1000+j[:,2] for j in nde]\n",
    "entropy = [-sum((rle(np.sort(i))[0]/1500.)*np.log2(rle(np.sort(i))[0]/1500.)) for i in t]"
   ]
  },
  {
   "cell_type": "code",
   "execution_count": null,
   "metadata": {
    "collapsed": false
   },
   "outputs": [],
   "source": [
    "pd.DataFrame(energy,columns=['lol']).T.to_excel('lol.xlsx',startrow  = 3, startcol = 2, header = False)"
   ]
  },
  {
   "cell_type": "code",
   "execution_count": null,
   "metadata": {
    "collapsed": true
   },
   "outputs": [],
   "source": []
  },
  {
   "cell_type": "code",
   "execution_count": null,
   "metadata": {
    "collapsed": false
   },
   "outputs": [],
   "source": [
    "energy"
   ]
  },
  {
   "cell_type": "code",
   "execution_count": null,
   "metadata": {
    "collapsed": true
   },
   "outputs": [],
   "source": []
  },
  {
   "cell_type": "code",
   "execution_count": null,
   "metadata": {
    "collapsed": true
   },
   "outputs": [],
   "source": []
  },
  {
   "cell_type": "code",
   "execution_count": null,
   "metadata": {
    "collapsed": true
   },
   "outputs": [],
   "source": []
  },
  {
   "cell_type": "code",
   "execution_count": null,
   "metadata": {
    "collapsed": true
   },
   "outputs": [],
   "source": []
  },
  {
   "cell_type": "code",
   "execution_count": null,
   "metadata": {
    "collapsed": true
   },
   "outputs": [],
   "source": []
  },
  {
   "cell_type": "code",
   "execution_count": null,
   "metadata": {
    "collapsed": false
   },
   "outputs": [],
   "source": [
    "info1 = pd.read_excel('2016-03-11_Collective_action/160311_SO1-2.xlsx',sheetname=u'О2')"
   ]
  },
  {
   "cell_type": "code",
   "execution_count": null,
   "metadata": {
    "collapsed": false
   },
   "outputs": [],
   "source": [
    "info2 = pd.read_excel('2016-03-11_Collective_action/160311_SO1-2.xlsx',sheetname=u'Г2')"
   ]
  },
  {
   "cell_type": "code",
   "execution_count": null,
   "metadata": {
    "collapsed": false
   },
   "outputs": [],
   "source": [
    "info = pd.concat([info1,info2],join = 'inner',ignore_index=True)"
   ]
  },
  {
   "cell_type": "code",
   "execution_count": null,
   "metadata": {
    "collapsed": false
   },
   "outputs": [],
   "source": [
    "info1.tail()"
   ]
  },
  {
   "cell_type": "code",
   "execution_count": null,
   "metadata": {
    "collapsed": false
   },
   "outputs": [],
   "source": [
    "info2.head()"
   ]
  },
  {
   "cell_type": "code",
   "execution_count": null,
   "metadata": {
    "collapsed": true
   },
   "outputs": [],
   "source": []
  }
 ],
 "metadata": {
  "kernelspec": {
   "display_name": "Python 2",
   "language": "python",
   "name": "python2"
  },
  "language_info": {
   "codemirror_mode": {
    "name": "ipython",
    "version": 2
   },
   "file_extension": ".py",
   "mimetype": "text/x-python",
   "name": "python",
   "nbconvert_exporter": "python",
   "pygments_lexer": "ipython2",
   "version": "2.7.11"
  }
 },
 "nbformat": 4,
 "nbformat_minor": 0
}
